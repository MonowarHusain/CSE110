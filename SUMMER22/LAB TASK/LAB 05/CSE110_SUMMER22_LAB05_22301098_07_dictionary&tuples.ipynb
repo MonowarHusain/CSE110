{
  "nbformat": 4,
  "nbformat_minor": 0,
  "metadata": {
    "colab": {
      "provenance": [],
      "authorship_tag": "ABX9TyMrkoXcYC30f3xlHkN40u/y"
    },
    "kernelspec": {
      "name": "python3",
      "display_name": "Python 3"
    },
    "language_info": {
      "name": "python"
    }
  },
  "cells": [
    {
      "cell_type": "code",
      "execution_count": null,
      "metadata": {
        "colab": {
          "base_uri": "https://localhost:8080/"
        },
        "id": "CKzhbd78Bekh",
        "outputId": "3e507853-ff6e-4c5b-da6d-4da606914f1a"
      },
      "outputs": [
        {
          "output_type": "stream",
          "name": "stdout",
          "text": [
            "400\n"
          ]
        }
      ],
      "source": [
        "#TASK01\n",
        "a_tuple = (\"The Institute\", (\"Best Mystery & Thriller\", \"The Silent Patient\", 68821), 75717,\n",
        "[1, 2, 3, 400, 5, 6, 7], (\"Best Fiction\", \"The Testaments\", 98291))\n",
        "\n",
        "print(a_tuple[3][3])"
      ]
    },
    {
      "cell_type": "code",
      "source": [
        "#task02\n",
        "a_tuple = (10, 20, 24, 25, 26, 35, 70)\n",
        "print(a_tuple[2:len(a_tuple)-2])\n"
      ],
      "metadata": {
        "colab": {
          "base_uri": "https://localhost:8080/"
        },
        "id": "jxSA29WVB4sP",
        "outputId": "54b3509e-41a7-4bcc-e677-330156424565"
      },
      "execution_count": null,
      "outputs": [
        {
          "output_type": "stream",
          "name": "stdout",
          "text": [
            "(24, 25, 26)\n"
          ]
        }
      ]
    },
    {
      "cell_type": "code",
      "source": [
        "#TASK03\n",
        "\n",
        "book_info = (\n",
        "(\"Best Mystery & Thriller\",\"The Silent Patient\",68,821),\n",
        "(\"Best Horror\",\"The Institute\",75,717),\n",
        "(\"Best History & Biography\",\"The five\",31,783 ),\n",
        "(\"Best Fiction\",\"The Testaments\",98,291)\n",
        ")\n",
        "\n",
        "print('Size of the tuple is: ',len(book_info))\n",
        "for imn in range(len(book_info)):\n",
        "    print(book_info[imn])"
      ],
      "metadata": {
        "id": "iztB-FbUETwh",
        "colab": {
          "base_uri": "https://localhost:8080/"
        },
        "outputId": "09aa1318-d836-4b3f-fa6b-8e4b0cf5f7b1"
      },
      "execution_count": null,
      "outputs": [
        {
          "output_type": "stream",
          "name": "stdout",
          "text": [
            "Size of the tuple is:  4\n",
            "('Best Mystery & Thriller', 'The Silent Patient', 68, 821)\n",
            "('Best Horror', 'The Institute', 75, 717)\n",
            "('Best History & Biography', 'The five', 31, 783)\n",
            "('Best Fiction', 'The Testaments', 98, 291)\n"
          ]
        }
      ]
    },
    {
      "cell_type": "code",
      "source": [
        "#task04\n",
        "book_info = (\n",
        "(\"Best Mystery & Thriller\",\"The Silent Patient\",68821),\n",
        "(\"Best Horror\",\"The Institute\",75717),\n",
        "(\"Best History & Biography\",\"The five\",31783 ),\n",
        "(\"Best Fiction\",\"The Testaments\",98291)\n",
        ")\n",
        "\n",
        "for ijk in range(len(book_info)):\n",
        "    print(\"{} won the '{}' category with {} votes\".format(book_info[ijk][1],book_info[ijk][0],book_info[ijk][2] ))"
      ],
      "metadata": {
        "id": "-OxwOPgXFGOu",
        "colab": {
          "base_uri": "https://localhost:8080/"
        },
        "outputId": "237f07e2-1af1-47ae-f35f-cfff4abf4d00"
      },
      "execution_count": null,
      "outputs": [
        {
          "output_type": "stream",
          "name": "stdout",
          "text": [
            "The Silent Patient won the 'Best Mystery & Thriller' category with 68821 votes\n",
            "The Institute won the 'Best Horror' category with 75717 votes\n",
            "The five won the 'Best History & Biography' category with 31783 votes\n",
            "The Testaments won the 'Best Fiction' category with 98291 votes\n"
          ]
        }
      ]
    },
    {
      "cell_type": "code",
      "source": [
        "book_info = (\n",
        "(\"Best Mystery & Thriller\",\"The Silent Patient\",68821),\n",
        "(\"Best Horror\",\"The Institute\",75717),\n",
        "(\"Best History & Biography\",\"The five\",31783 ),\n",
        "(\"Best Fiction\",\"The Testaments\",98291)\n",
        ")\n",
        "\n",
        "\n",
        "for ifg in book_info:\n",
        "    v1,v2,v3 = ifg[0],ifg[1],ifg[2]\n",
        "    print(f\"{v2} won the '{v1}' category with {v3} votes\")"
      ],
      "metadata": {
        "colab": {
          "base_uri": "https://localhost:8080/"
        },
        "id": "s_slVIa2wolg",
        "outputId": "16cf1f07-6b8c-44b0-d007-897baac1a8ae"
      },
      "execution_count": null,
      "outputs": [
        {
          "output_type": "stream",
          "name": "stdout",
          "text": [
            "The Silent Patient won the 'Best Mystery & Thriller' category with 68821 votes\n",
            "The Institute won the 'Best Horror' category with 75717 votes\n",
            "The five won the 'Best History & Biography' category with 31783 votes\n",
            "The Testaments won the 'Best Fiction' category with 98291 votes\n"
          ]
        }
      ]
    },
    {
      "cell_type": "code",
      "source": [
        "#task05\n",
        "a_tuple = (10, 8, 5, 2, 10, 15, 10, 8, 5, 8, 8, 2)\n",
        "nmn=int(input())\n",
        "\n",
        "kjk=0\n",
        "\n",
        "for irt in a_tuple:\n",
        "    if irt == nmn:\n",
        "        kjk+=1\n",
        "print(nmn,'appears',kjk,'times in the tuple')"
      ],
      "metadata": {
        "colab": {
          "base_uri": "https://localhost:8080/"
        },
        "id": "71j6029vFOp6",
        "outputId": "e2d09dcc-d14b-4d94-bdaa-833fdb200c81"
      },
      "execution_count": null,
      "outputs": [
        {
          "output_type": "stream",
          "name": "stdout",
          "text": [
            "8\n",
            "8 appears 4 times in the tuple\n"
          ]
        }
      ]
    },
    {
      "cell_type": "code",
      "source": [
        "#task06\n",
        "\n",
        "given_tuple= ('a', 'b', 'c', 'd', 'e', 'f', 'g', 'h')\n",
        "\n",
        "new_lst = list(given_tuple)\n",
        "\n",
        "rev_lst = []\n",
        "\n",
        "\n",
        "for itr in range( len(new_lst) - 1, -1, -1) :\n",
        "    rev_lst.append(new_lst[itr])\n",
        "\n",
        "\n",
        "new_rev_tuple=tuple(rev_lst)\n",
        "print(new_rev_tuple)\n"
      ],
      "metadata": {
        "colab": {
          "base_uri": "https://localhost:8080/"
        },
        "id": "HHwXqXdnF614",
        "outputId": "9d0610d0-f397-4985-9cfd-6c8f3ef0024a"
      },
      "execution_count": null,
      "outputs": [
        {
          "output_type": "stream",
          "name": "stdout",
          "text": [
            "('h', 'g', 'f', 'e', 'd', 'c', 'b', 'a')\n"
          ]
        }
      ]
    },
    {
      "cell_type": "code",
      "source": [
        "#task07\n",
        "first_dictionary = {'Harry':15, 'Draco':8, 'Nevil':19}\n",
        "second_dictionary = {'Ginie':18, 'Luna': 14}\n",
        "marks = {}\n",
        "marks.update(first_dictionary)\n",
        "marks.update(second_dictionary)\n",
        "\n",
        "print(marks)"
      ],
      "metadata": {
        "id": "YESJIAzEFVGn",
        "colab": {
          "base_uri": "https://localhost:8080/"
        },
        "outputId": "c798f961-2303-45b3-b31f-d3348f154fb9"
      },
      "execution_count": null,
      "outputs": [
        {
          "output_type": "stream",
          "name": "stdout",
          "text": [
            "{'Harry': 15, 'Draco': 8, 'Nevil': 19, 'Ginie': 18, 'Luna': 14}\n"
          ]
        }
      ]
    },
    {
      "cell_type": "code",
      "source": [
        "#task08\n",
        "n=int(input('Sir.Please enter your pair quantity: '))\n",
        "new_tuple = {}\n",
        "sum=0\n",
        "\n",
        "for imn in range(n):\n",
        "    key = input('Sir.Please enter your key: ')\n",
        "    value =  int(input('Sir.Please enter your value: '))\n",
        "    new_tuple[key]=value\n",
        "print(new_tuple)\n",
        "\n",
        "for igh,jgh in new_tuple.items():\n",
        "    #print(j)\n",
        "    sum = sum +jgh\n",
        "\n",
        "\n",
        "\n",
        "avr1=sum/n\n",
        "\n",
        "print(int(avr1))"
      ],
      "metadata": {
        "colab": {
          "base_uri": "https://localhost:8080/"
        },
        "id": "aU9ocDrhbHDe",
        "outputId": "d1e9d32e-b4d1-4977-8132-753ee7b5c64b"
      },
      "execution_count": null,
      "outputs": [
        {
          "output_type": "stream",
          "name": "stdout",
          "text": [
            "Sir.Please enter your pair quantity: 3\n",
            "Sir.Please enter your key: jon\n",
            "Sir.Please enter your value: 100\n",
            "Sir.Please enter your key: kij\n",
            "Sir.Please enter your value: 200\n",
            "Sir.Please enter your key: mono\n",
            "Sir.Please enter your value: 300\n",
            "{'jon': 100, 'kij': 200, 'mono': 300}\n",
            "200\n"
          ]
        }
      ]
    },
    {
      "cell_type": "code",
      "source": [
        "#task08 (mahdi_ashraf)\n",
        "\n",
        "dict_input=input()\n",
        "d={}\n",
        "s=[]\n",
        "a=[z for z in dict_input[1:-1].split(', ')]\n",
        "for i in a:\n",
        "  c=i.split(':')\n",
        "  d=tuple(c)\n",
        "  s.append(d)\n",
        "k=dict(s)\n",
        "count=0\n",
        "count2=0\n",
        "for v in k.values():\n",
        "  count+=int(v)\n",
        "  count2+=1\n",
        "print('The average is {}'.format(count/count2))"
      ],
      "metadata": {
        "colab": {
          "base_uri": "https://localhost:8080/"
        },
        "id": "weaW0yLUC55u",
        "outputId": "63c16967-d87f-48c8-9863-af253d6fbcc3"
      },
      "execution_count": null,
      "outputs": [
        {
          "output_type": "stream",
          "name": "stdout",
          "text": [
            "{'jon': 100, 'dan': 200, 'rob': 500}\n",
            "The average is 266.6666666666667\n"
          ]
        }
      ]
    },
    {
      "cell_type": "code",
      "source": [
        "#task09\n",
        "exam_marks = {'Cierra Vega': 175, 'Alden Cantrell': 200, 'Kierra Gentry': 165, 'Pierre Cox': 190}\n",
        "\n",
        "num = int(input('Sir. Please enter your desired number: '))\n",
        "new={}\n",
        "\n",
        "for i,j in exam_marks.items():\n",
        "    if j>=num:\n",
        "        new[i]=j\n",
        "\n",
        "\n",
        "print(new)"
      ],
      "metadata": {
        "id": "MJU3Et8CLsRS",
        "colab": {
          "base_uri": "https://localhost:8080/"
        },
        "outputId": "b66a62c3-fd94-46d1-aa9c-0de9ec72d07b"
      },
      "execution_count": null,
      "outputs": [
        {
          "output_type": "stream",
          "name": "stdout",
          "text": [
            "{'Alden Cantrell': 200, 'Pierre Cox': 190}\n"
          ]
        }
      ]
    },
    {
      "cell_type": "code",
      "source": [
        "g=[(20, 80), (31, 80), (1, 22), (88, 11), (27, 11)]\n",
        "t={}\n",
        "\n",
        "for i in g:\n",
        "    if i[1] not in t:\n",
        "\n",
        "        t[i[1]]=[i]\n",
        "    else:\n",
        "        t[i[1]].append(i)\n",
        "\n",
        "print(t)\n"
      ],
      "metadata": {
        "colab": {
          "base_uri": "https://localhost:8080/"
        },
        "id": "l8sNIPeTZpzE",
        "outputId": "7522ffe0-c3a9-410f-b76d-857935a44a0d"
      },
      "execution_count": null,
      "outputs": [
        {
          "output_type": "stream",
          "name": "stdout",
          "text": [
            "{80: [(20, 80), (31, 80)], 22: [(1, 22)], 11: [(88, 11), (27, 11)]}\n"
          ]
        }
      ]
    },
    {
      "cell_type": "code",
      "source": [
        "lis_1 = [(20, 80), (31, 80), (1, 22), (88, 11), (27, 11)]\n",
        "dic_1 = {}\n",
        "for i in lis_1:\n",
        "    x,y = i\n",
        "    if y not in dic_1:\n",
        "        dic_1[y] = [i]\n",
        "    else:\n",
        "        dic_1[y].append(i)\n",
        "print(dic_1)"
      ],
      "metadata": {
        "colab": {
          "base_uri": "https://localhost:8080/"
        },
        "id": "oTcgq0AVbyVa",
        "outputId": "1be14203-cda7-4548-bbf8-37aabb4844a2"
      },
      "execution_count": null,
      "outputs": [
        {
          "output_type": "stream",
          "name": "stdout",
          "text": [
            "{80: [(20, 80), (31, 80)], 22: [(1, 22)], 11: [(88, 11), (27, 11)]}\n"
          ]
        }
      ]
    },
    {
      "cell_type": "code",
      "source": [
        "#task10\n",
        "tt={'sci fi': 5, 'mystery': 3, 'horror': 14, 'young_adult': 2, 'adventure':9}\n",
        "klk=''\n",
        "mono=-1\n",
        "for ihj,jfg in tt.items():\n",
        "\n",
        "    if jfg>mono:\n",
        "        mono=jfg\n",
        "        klk=ihj\n",
        "    else:\n",
        "        pass\n",
        "\n",
        "print(\"The highest selling book genre is '{}' and the number of books sold are {}\".format(klk,mono))\n"
      ],
      "metadata": {
        "id": "P-ot8UM5KaVc",
        "colab": {
          "base_uri": "https://localhost:8080/"
        },
        "outputId": "10141516-5fe2-4f9c-f403-589409cb84d7"
      },
      "execution_count": null,
      "outputs": [
        {
          "output_type": "stream",
          "name": "stdout",
          "text": [
            "The highest selling book genre is 'horror' and the number of books sold are 14\n"
          ]
        }
      ]
    },
    {
      "cell_type": "code",
      "source": [
        "#task11\n",
        "d=\"Python programming is fun\"\n",
        "j=d.lower()\n",
        "mno=''\n",
        "for ihj in j:\n",
        "    if ihj ==' ':\n",
        "        pass\n",
        "    else:\n",
        "        mno+=ihj\n",
        "lst={}\n",
        "for ihj in mno:\n",
        "    if ihj not in lst:\n",
        "        lst[ihj]=1\n",
        "    else:\n",
        "        lst[ihj]+=1\n",
        "print(lst)"
      ],
      "metadata": {
        "colab": {
          "base_uri": "https://localhost:8080/"
        },
        "id": "2cBVAsLlt-A1",
        "outputId": "66a393a7-163c-4a64-bca7-7a5ae956391a"
      },
      "execution_count": null,
      "outputs": [
        {
          "output_type": "stream",
          "name": "stdout",
          "text": [
            "{'p': 2, 'y': 1, 't': 1, 'h': 1, 'o': 2, 'n': 3, 'r': 2, 'g': 2, 'a': 1, 'm': 2, 'i': 2, 's': 1, 'f': 1, 'u': 1}\n"
          ]
        }
      ]
    },
    {
      "cell_type": "code",
      "source": [
        "#task12\n",
        "dict_1 = {'A': [1, 2, 3], 'b': ['1', '2'], \"c\": [4, 5, 6, 7]}\n",
        "count=0\n",
        "for imn,jkl in dict_1.items():\n",
        "    for kmn in jkl:\n",
        "        count+=1\n",
        "print(count)\n"
      ],
      "metadata": {
        "colab": {
          "base_uri": "https://localhost:8080/"
        },
        "id": "yssXt50_W5uX",
        "outputId": "5f90a726-0812-4e0a-856d-e2b36464dc3c"
      },
      "execution_count": null,
      "outputs": [
        {
          "output_type": "stream",
          "name": "stdout",
          "text": [
            "9\n"
          ]
        }
      ]
    },
    {
      "cell_type": "code",
      "source": [
        "\n",
        "#task13\n",
        "k = [(\"a\", 1), (\"b\", 2), (\"a\", 3), (\"b\", 1), (\"a\", 2), (\"c\", 1)]\n",
        "y={}\n",
        "for i in k:\n",
        "    if i[0] not in y:\n",
        "        y[i[0]]=[i[1]]\n",
        "    else:\n",
        "        y[i[0]].append(i[1])\n",
        "print(y)\n",
        "\n",
        "\n"
      ],
      "metadata": {
        "id": "T9LzKUyD7ENM",
        "outputId": "f2a0d4c4-4f90-428e-f8dd-dd9e6b0ec7a1",
        "colab": {
          "base_uri": "https://localhost:8080/"
        }
      },
      "execution_count": null,
      "outputs": [
        {
          "output_type": "stream",
          "name": "stdout",
          "text": [
            "{'a': [1, 3, 2], 'b': [2, 1], 'c': [1]}\n"
          ]
        }
      ]
    },
    {
      "cell_type": "code",
      "source": [
        "k = [(\"a\", 1), (\"b\", 2), (\"a\", 3), (\"b\", 1), (\"a\", 2), (\"c\", 1)]\n",
        "for i in k:\n",
        "\n",
        "    print(i[0])"
      ],
      "metadata": {
        "colab": {
          "base_uri": "https://localhost:8080/"
        },
        "id": "B1Bk32AJ4IUk",
        "outputId": "85040512-cdbe-44ee-bd11-51221cef438e"
      },
      "execution_count": null,
      "outputs": [
        {
          "output_type": "stream",
          "name": "stdout",
          "text": [
            "a\n",
            "b\n",
            "a\n",
            "b\n",
            "a\n",
            "c\n"
          ]
        }
      ]
    },
    {
      "cell_type": "code",
      "source": [
        "dict1 = {'a':59 , 'b':-82 , 'c':5 , 'd':-81 , 'e':53}\n",
        "for i in dict1:\n",
        "    j = 0\n",
        "    k = 22\n",
        "    while j < 5:\n",
        "        if j % 2 == 0:\n",
        "            k = dict1[i] + j - (8 + k % 6) / 3\n",
        "            print('k',k)\n",
        "            dict1[i] = dict1[i]+ int(k)\n",
        "            print('dict1[i]',dict1[i])\n",
        "        else:\n",
        "            k = dict1[i] + j - (6 - k % 8) * 3\n",
        "            print('k',k)\n",
        "            dict1[i] = dict1[i] - int(k)\n",
        "            print('dict1[i]',dict1[i])\n",
        "        j += 1\n",
        "        print('j',j)\n",
        "    print('output1',int(k))\n",
        "    print('output2',i + \" -> \" + str(dict1[i]))\n",
        "\n"
      ],
      "metadata": {
        "colab": {
          "base_uri": "https://localhost:8080/"
        },
        "id": "XnG6oGO-MVsz",
        "outputId": "4769266a-a170-49e0-d7e6-7967dd1ec8f3"
      },
      "execution_count": null,
      "outputs": [
        {
          "output_type": "stream",
          "name": "stdout",
          "text": [
            "k 55.0\n",
            "dict1[i] 114\n",
            "j 1\n",
            "k 118.0\n",
            "dict1[i] -4\n",
            "j 2\n",
            "k -6.0\n",
            "dict1[i] -10\n",
            "j 3\n",
            "k -19.0\n",
            "dict1[i] 9\n",
            "j 4\n",
            "k 8.666666666666668\n",
            "dict1[i] 17\n",
            "j 5\n",
            "output1 8\n",
            "output2 a -> 17\n",
            "k -86.0\n",
            "dict1[i] -168\n",
            "j 1\n",
            "k -179.0\n",
            "dict1[i] 11\n",
            "j 2\n",
            "k 10.0\n",
            "dict1[i] 21\n",
            "j 3\n",
            "k 12.0\n",
            "dict1[i] 9\n",
            "j 4\n",
            "k 10.333333333333334\n",
            "dict1[i] 19\n",
            "j 5\n",
            "output1 10\n",
            "output2 b -> 19\n",
            "k 1.0\n",
            "dict1[i] 6\n",
            "j 1\n",
            "k -8.0\n",
            "dict1[i] 14\n",
            "j 2\n",
            "k 12.0\n",
            "dict1[i] 26\n",
            "j 3\n",
            "k 23.0\n",
            "dict1[i] 3\n",
            "j 4\n",
            "k 2.666666666666667\n",
            "dict1[i] 5\n",
            "j 5\n",
            "output1 2\n",
            "output2 c -> 5\n",
            "k -85.0\n",
            "dict1[i] -166\n",
            "j 1\n",
            "k -174.0\n",
            "dict1[i] 8\n",
            "j 2\n",
            "k 7.333333333333334\n",
            "dict1[i] 15\n",
            "j 3\n",
            "k 22.0\n",
            "dict1[i] -7\n",
            "j 4\n",
            "k -7.0\n",
            "dict1[i] -14\n",
            "j 5\n",
            "output1 -7\n",
            "output2 d -> -14\n",
            "k 49.0\n",
            "dict1[i] 102\n",
            "j 1\n",
            "k 88.0\n",
            "dict1[i] 14\n",
            "j 2\n",
            "k 12.0\n",
            "dict1[i] 26\n",
            "j 3\n",
            "k 23.0\n",
            "dict1[i] 3\n",
            "j 4\n",
            "k 2.666666666666667\n",
            "dict1[i] 5\n",
            "j 5\n",
            "output1 2\n",
            "output2 e -> 5\n"
          ]
        }
      ]
    },
    {
      "cell_type": "code",
      "source": [
        "int(2.9999999999999999999)"
      ],
      "metadata": {
        "colab": {
          "base_uri": "https://localhost:8080/"
        },
        "id": "r32Fc1s7uqAt",
        "outputId": "7dc40cbd-2e6a-402b-f88b-068023cc030a"
      },
      "execution_count": null,
      "outputs": [
        {
          "output_type": "execute_result",
          "data": {
            "text/plain": [
              "3"
            ]
          },
          "metadata": {},
          "execution_count": 4
        }
      ]
    },
    {
      "cell_type": "code",
      "source": [
        "dict1 = {'a':59 , 'b':-82 , 'c':5 , 'd':-81 , 'e':53}\n",
        "for i in dict1:\n",
        "    print(i)"
      ],
      "metadata": {
        "id": "tbxhVgjpOgX1",
        "outputId": "80a6c212-88ec-4d52-eb46-c62edffd4969",
        "colab": {
          "base_uri": "https://localhost:8080/"
        }
      },
      "execution_count": null,
      "outputs": [
        {
          "output_type": "stream",
          "name": "stdout",
          "text": [
            "a\n",
            "b\n",
            "c\n",
            "d\n",
            "e\n"
          ]
        }
      ]
    }
  ]
}