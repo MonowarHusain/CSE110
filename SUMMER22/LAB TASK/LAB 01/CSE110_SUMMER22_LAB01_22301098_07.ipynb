{
  "nbformat": 4,
  "nbformat_minor": 0,
  "metadata": {
    "colab": {
      "provenance": [],
      "authorship_tag": "ABX9TyPK5k/zmksmVDvnZcnk8C2U"
    },
    "kernelspec": {
      "name": "python3",
      "display_name": "Python 3"
    },
    "language_info": {
      "name": "python"
    }
  },
  "cells": [
    {
      "cell_type": "code",
      "execution_count": null,
      "metadata": {
        "colab": {
          "base_uri": "https://localhost:8080/"
        },
        "id": "KurPoogPU-HN",
        "outputId": "a92cc403-ab86-474b-fc0a-6d813c4f6edd"
      },
      "outputs": [
        {
          "output_type": "stream",
          "name": "stdout",
          "text": [
            "Sir, please enter your desired number: 4\n",
            "Sir, please enter your desired number: 5\n",
            "Sum = 9\n",
            "Product = 20\n",
            "Difference = -1\n"
          ]
        }
      ],
      "source": [
        "#task01\n",
        "\n",
        "number_01 = int(input('Sir, please enter your desired number: '))\n",
        "number_02 = int(input('Sir, please enter your desired number: '))\n",
        "\n",
        "sum = number_01 + number_02\n",
        "print('Sum =', sum)\n",
        "product = number_01 * number_02\n",
        "print('Product =', product)\n",
        "difference = number_01 - number_02\n",
        "print('Difference =',difference)"
      ]
    },
    {
      "cell_type": "code",
      "source": [],
      "metadata": {
        "id": "HrL9_BNz0eVi"
      },
      "execution_count": null,
      "outputs": []
    },
    {
      "cell_type": "code",
      "source": [
        "#task02\n",
        "\n",
        "import math\n",
        "\n",
        "radius = float(input('Sir, please enter your desired radius: '))\n",
        "\n",
        "Circumference = 2 * math.pi * radius\n",
        "Area = math.pi * math.pow(radius,2)\n",
        "\n",
        "print('Area is', Area)\n",
        "print('Circumference is', Circumference)"
      ],
      "metadata": {
        "colab": {
          "base_uri": "https://localhost:8080/"
        },
        "id": "JbQ2nENIYsuT",
        "outputId": "5e45af0d-581c-47e6-80ba-eddf5b4e2c96"
      },
      "execution_count": null,
      "outputs": [
        {
          "output_type": "stream",
          "name": "stdout",
          "text": [
            "Sir, please enter your desired radius: 4\n",
            "Area is 50.26548245743669\n",
            "Circumference is 25.132741228718345\n"
          ]
        }
      ]
    },
    {
      "cell_type": "code",
      "source": [
        "#task03\n",
        "\n",
        "number_01 = int(input('Sir, please enter your desired number: '))\n",
        "number_02 = int(input('Sir, please enter your desired number: '))\n",
        "\n",
        "if number_01 > number_02 :\n",
        "    print('First is greater')\n",
        "elif number_01 < number_02 :\n",
        "    print('Second is greater')\n",
        "else :\n",
        "    print('The numbers are equal')\n",
        "\n",
        "\n",
        ""
      ],
      "metadata": {
        "colab": {
          "base_uri": "https://localhost:8080/"
        },
        "id": "eI2eEA04ZzmN",
        "outputId": "8cb9fd35-d8d2-424f-c5f9-d4845589b811"
      },
      "execution_count": null,
      "outputs": [
        {
          "output_type": "stream",
          "name": "stdout",
          "text": [
            "Sir, please enter your desired number: 7\n",
            "Sir, please enter your desired number: 3\n",
            "First is greater\n"
          ]
        }
      ]
    },
    {
      "cell_type": "code",
      "source": [
        "#task03\n",
        "\n",
        "number_01 = int(input('Sir, please enter your desired number: '))\n",
        "number_02 = int(input('Sir, please enter your desired number: '))\n",
        "\n",
        "if number_01 >= number_02 :\n",
        "  if (number_01 > number_02) :\n",
        "    print('First is greater')\n",
        "  else:\n",
        "    print('The numbers are equal')\n",
        "\n",
        "else:\n",
        "    print('Second is greater')"
      ],
      "metadata": {
        "colab": {
          "base_uri": "https://localhost:8080/"
        },
        "id": "OZkllRp4itjx",
        "outputId": "c8b34bde-ea51-409a-f5e8-7fbc0152dc8b"
      },
      "execution_count": null,
      "outputs": [
        {
          "output_type": "stream",
          "name": "stdout",
          "text": [
            "Sir, please enter your desired number: 10\n",
            "Sir, please enter your desired number: 10\n",
            "Equal\n"
          ]
        }
      ]
    },
    {
      "cell_type": "code",
      "source": [
        "#task04\n",
        "\n",
        "number_01 = int(input('Sir, please enter your desired number: '))\n",
        "number_02 = int(input('Sir, please enter your desired number: '))\n",
        "\n",
        "if number_01 > number_02 :\n",
        "    print( number_01 - number_02  )\n",
        "elif number_01 < number_02 :\n",
        "    print( number_02 - number_01  )\n",
        "else :\n",
        "  print( number_01 - number_02 )"
      ],
      "metadata": {
        "colab": {
          "base_uri": "https://localhost:8080/"
        },
        "id": "UTRS2nZtd1hR",
        "outputId": "b8c1ec64-0d6e-434c-85db-58de8489a1bc"
      },
      "execution_count": null,
      "outputs": [
        {
          "output_type": "stream",
          "name": "stdout",
          "text": [
            "Sir, please enter your desired number: -40\n",
            "Sir, please enter your desired number: -4\n",
            "36\n"
          ]
        }
      ]
    },
    {
      "cell_type": "code",
      "source": [
        "#task05\n",
        "\n",
        "number = int(input('Sir, please enter your desired number: '))\n",
        "\n",
        "if number%2 == 0:\n",
        "    print('The number is even')\n",
        "else :\n",
        "    print('The number is odd')"
      ],
      "metadata": {
        "colab": {
          "base_uri": "https://localhost:8080/"
        },
        "id": "slV6g7OXe26D",
        "outputId": "20771c23-8f92-4550-d1a1-0922a4cc46cf"
      },
      "execution_count": null,
      "outputs": [
        {
          "output_type": "stream",
          "name": "stdout",
          "text": [
            "Sir, please enter your desired number: 12\n",
            "The number is even\n"
          ]
        }
      ]
    },
    {
      "cell_type": "code",
      "source": [
        "#task06\n",
        "\n",
        "number = int(input('Sir, please enter your desired number: '))\n",
        "\n",
        "if number % 2 == 0 or number % 5 == 0:\n",
        "    print(number)\n",
        "else :\n",
        "    print('Not a multiple of 2 OR 5')"
      ],
      "metadata": {
        "colab": {
          "base_uri": "https://localhost:8080/"
        },
        "id": "E3-wwOk1p6iJ",
        "outputId": "4fd739a8-a105-41f3-c31a-bf9c59b9cbe3"
      },
      "execution_count": null,
      "outputs": [
        {
          "output_type": "stream",
          "name": "stdout",
          "text": [
            "Sir, please enter your desired number: 7\n",
            "Not a multiple of 2 OR 5\n"
          ]
        }
      ]
    },
    {
      "cell_type": "code",
      "source": [
        "#task07\n",
        "\n",
        "number = int(input('Sir, please enter your desired number: '))\n",
        "\n",
        "if number % 2 == 0 and number % 5 == 0:\n",
        "    print('Multiple of 2 and 5 both')\n",
        "elif number % 2 == 0 or number % 5 == 0:\n",
        "    print(number)\n",
        "else:\n",
        "    print('Not a multiple we want')"
      ],
      "metadata": {
        "colab": {
          "base_uri": "https://localhost:8080/"
        },
        "id": "gTR987I_pNv6",
        "outputId": "0a035501-c8ac-479a-d1e6-0c0b3df8ec6f"
      },
      "execution_count": null,
      "outputs": [
        {
          "output_type": "stream",
          "name": "stdout",
          "text": [
            "Sir, please enter your desired number: 9\n",
            "Not a multiple we want\n"
          ]
        }
      ]
    },
    {
      "cell_type": "code",
      "source": [
        "#task08\n",
        "number = int(input('Sir, please enter your desired number: '))\n",
        "\n",
        "if number % 2 == 0 and number % 5 == 0:\n",
        "    print(number)\n",
        "else :\n",
        "    print('Not a multiple of 2 and 5 both')"
      ],
      "metadata": {
        "colab": {
          "base_uri": "https://localhost:8080/"
        },
        "id": "jVTh6Ic291_y",
        "outputId": "ca441d08-8e7c-4ef7-bf7d-ce776c2d58b6"
      },
      "execution_count": null,
      "outputs": [
        {
          "output_type": "stream",
          "name": "stdout",
          "text": [
            "Sir, please enter your desired number: 6\n",
            "Not a multiple of 2 and 5 both\n"
          ]
        }
      ]
    },
    {
      "cell_type": "code",
      "source": [],
      "metadata": {
        "id": "MrG8vyFWiphL"
      },
      "execution_count": null,
      "outputs": []
    },
    {
      "cell_type": "code",
      "source": [
        "#task09\n",
        "\n",
        "number = int(input('Sir, please enter your desired number: '))\n",
        "\n",
        "hour = number // 3600\n",
        "rem = number % 3600\n",
        "minute = rem // 60\n",
        "second = rem % 60\n",
        "\n",
        "print('Hours:', hour, 'Minutes:', minute, 'Seconds:',second )"
      ],
      "metadata": {
        "id": "9OMHPW0Wraak",
        "colab": {
          "base_uri": "https://localhost:8080/"
        },
        "outputId": "30af6e08-28d5-4705-aac4-afa376af488c"
      },
      "execution_count": null,
      "outputs": [
        {
          "output_type": "stream",
          "name": "stdout",
          "text": [
            "Sir, please enter your desired number: 10000\n",
            "Hours: 2 Minutes: 46 Seconds: 40\n"
          ]
        }
      ]
    },
    {
      "cell_type": "code",
      "source": [
        "#task10\n",
        "\n",
        "hour = int(input('Sir, enter your desired working hour: '))\n",
        "\n",
        "if hour>-1 and hour<169:\n",
        " if hour <= 40:\n",
        "  print( hour *200 )\n",
        " else :\n",
        "  print(8000+( (hour-40) * 300 ))\n",
        "else:\n",
        "  if hour<0:\n",
        "    print('Hour cannot be negative')\n",
        "  else:\n",
        "    print('Impossible to work more than 168 hours weekly')"
      ],
      "metadata": {
        "id": "mwPnTFpPPqVG"
      },
      "execution_count": null,
      "outputs": []
    },
    {
      "cell_type": "code",
      "source": [
        "#task11\n",
        "\n",
        "S = int(input('Sir, please enter your desired number: '))\n",
        "\n",
        "if S < 100:\n",
        "  L_01 = 3000-125*(S**2)\n",
        "  print('L =', L_01)\n",
        "elif S >= 100:\n",
        "  L_02 = 12000/(4+((S**2)/14900))\n",
        "  print('L =', L_02 )"
      ],
      "metadata": {
        "colab": {
          "base_uri": "https://localhost:8080/"
        },
        "id": "IHsSDFZtSDVY",
        "outputId": "65459544-330a-4a63-fb78-fa8666b8aaa1"
      },
      "execution_count": null,
      "outputs": [
        {
          "output_type": "stream",
          "name": "stdout",
          "text": [
            "Sir, please enter your desired number: 120\n",
            "L = 2416.2162162162163\n"
          ]
        }
      ]
    },
    {
      "cell_type": "code",
      "source": [
        "#task12\n",
        "\n",
        "number = int(input('Sir, please enter your desired time: '))\n",
        "\n",
        "if  number >-1 and number<24:\n",
        "  if   number >= 4 and number <= 6:\n",
        "      print('Breakfast')\n",
        "  elif number >= 12 and number <= 13:\n",
        "      print('Lunch')\n",
        "  elif number >= 16 and number<= 17:\n",
        "      print('Snacks')\n",
        "  elif number >= 19 and number<= 20:\n",
        "      print('Dinner')\n",
        "  else:\n",
        "    print(\"Patience is a virtue\")\n",
        "else:\n",
        "  print('Wrong Time')\n"
      ],
      "metadata": {
        "colab": {
          "base_uri": "https://localhost:8080/"
        },
        "id": "Ob6ZoJnKUSB_",
        "outputId": "39910649-67b4-4f71-e6d2-3a1bae7de1a4"
      },
      "execution_count": null,
      "outputs": [
        {
          "output_type": "stream",
          "name": "stdout",
          "text": [
            "Sir, please enter your desired time: 25\n",
            "wrong\n"
          ]
        }
      ]
    },
    {
      "cell_type": "code",
      "source": [
        "#Task_13\n",
        "\n",
        "number = int(input('Sir, Please enter your desired number: '))\n",
        "\n",
        "if  100 >= number >= 90:\n",
        "    print('A')\n",
        "elif 80 <= number <= 89 :\n",
        "    print('B')\n",
        "elif 70 <= number <= 79 :\n",
        "    print('C')\n",
        "elif 60 <= number <= 69 :\n",
        "    print('D')\n",
        "elif 50 <= number <= 59 :\n",
        "    print('E')\n",
        "elif number < 50 :\n",
        "    print('F')"
      ],
      "metadata": {
        "id": "kQZXJ-F8P3kO",
        "colab": {
          "base_uri": "https://localhost:8080/"
        },
        "outputId": "08e5c949-7820-463a-d031-313a2284726e"
      },
      "execution_count": null,
      "outputs": [
        {
          "output_type": "stream",
          "name": "stdout",
          "text": [
            "Sir, Please enter your desired number: 80\n",
            "B\n"
          ]
        }
      ]
    },
    {
      "cell_type": "code",
      "source": [
        "#task14\n",
        "distance = int(input('Sir, please enter your desired distance: '))\n",
        "time = int(input('Sir, please enter your desired time: '))\n",
        "\n",
        "Distance = distance/1000\n",
        "Time = time/3600\n",
        "\n",
        "Velocity = Distance/Time\n",
        "\n",
        "print(Velocity,'km/h')\n",
        "\n",
        "if Velocity>-1 and Velocity<60:\n",
        "  print('Too slow. Needs more changes.')\n",
        "elif Velocity >= 60 and Velocity <= 90:\n",
        "  print('Velocity is okay. The car is ready!')\n",
        "else:\n",
        "  print('Too fast. Only a few changes should suffice.')"
      ],
      "metadata": {
        "id": "xfBxPNZMVYxB",
        "colab": {
          "base_uri": "https://localhost:8080/"
        },
        "outputId": "2a5283a3-47b6-49f8-8590-741bc704ada4"
      },
      "execution_count": null,
      "outputs": [
        {
          "output_type": "stream",
          "name": "stdout",
          "text": [
            "Sir, please enter your desired distance: 1\n",
            "Sir, please enter your desired time: 7\n",
            "0.5142857142857143 km/h\n",
            "Too fast. Only a few changes should suffice.\n"
          ]
        }
      ]
    },
    {
      "cell_type": "code",
      "source": [
        "#task15\n",
        "cgpa  = float(input('Sir, please enter your desired CGPA: '))\n",
        "credit = int(input('Sir, please enter your desired completed credit: '))\n",
        "\n",
        "if credit>30:\n",
        " if cgpa >= 3.80 and cgpa <= 3.89:\n",
        "  print('The student is eligible for a waiver of 25 percent.')\n",
        " elif cgpa >= 3.90 and cgpa <= 3.94:\n",
        "  print('The student is eligible for a waiver of 50 percent.')\n",
        " elif cgpa >= 3.95 and cgpa <= 3.99:\n",
        "  print('The student is eligible for a waiver of 75 percent.')\n",
        " elif cgpa == 4.00:\n",
        "  print('The student is eligible for a waiver of 100 percent.')\n",
        " else:\n",
        "  print('The student is not eligible for a waiver.')"
      ],
      "metadata": {
        "colab": {
          "base_uri": "https://localhost:8080/"
        },
        "id": "hUoHRqIFE-v1",
        "outputId": "46e78a6f-11b8-4220-e448-63c034025248"
      },
      "execution_count": null,
      "outputs": [
        {
          "name": "stdout",
          "output_type": "stream",
          "text": [
            "Sir, please enter your desired CGPA: 3.39\n",
            "Sir, please enter your desired completed credit: 25\n"
          ]
        }
      ]
    },
    {
      "cell_type": "code",
      "source": [
        "#task16\n",
        "\n",
        "p = 5\n",
        "q = 6\n",
        "r = 9\n",
        "sum = 0\n",
        "if (p < 12):\n",
        " print(r + 2)\n",
        "else:\n",
        " print(r + p)\n",
        "if (q > 20):\n",
        " print(r + 19)\n",
        "elif (q <= 6):\n",
        " print(q + 3)\n",
        "else:\n",
        " print(p + q + r)\n",
        "if (r > 15):\n",
        " print(r)\n",
        "elif (r == 0):\n",
        " print(p + q)\n",
        "else:\n",
        " print(p)\n",
        "if (sum != 0):\n",
        " print(3)\n",
        "else:\n",
        " print(sum + 32)\n",
        "if (p>0 and r<10):\n",
        " print(p+r)\n",
        "else:\n",
        " print(p-r)"
      ],
      "metadata": {
        "colab": {
          "base_uri": "https://localhost:8080/"
        },
        "id": "7kEVfxoSTocR",
        "outputId": "5a082ca6-20d8-40bf-d967-7f1ef5c256b3"
      },
      "execution_count": null,
      "outputs": [
        {
          "output_type": "stream",
          "name": "stdout",
          "text": [
            "11\n",
            "9\n",
            "5\n",
            "32\n",
            "14\n"
          ]
        }
      ]
    },
    {
      "cell_type": "markdown",
      "source": [
        "**Task 17**\n",
        ""
      ],
      "metadata": {
        "id": "aN5HwJnQ9Gee"
      }
    },
    {
      "cell_type": "code",
      "source": [
        "var1 = var2 = var3 = var4 = var5 = var6 = False\n",
        "result1 = False\n",
        "result2 = False\n",
        "result3 = False\n",
        "result4 = False\n",
        "result5 = False\n",
        "result6 = False\n",
        "result7 = False\n",
        "result8 = False\n",
        "result9 = False\n",
        "result10 = False\n",
        "var1 = 4 > 3 - 1\n",
        "var2 = var1 and False\n",
        "var3 = True\n",
        "var4 = False\n",
        "var5 = True\n",
        "var6 = var3 and False\n",
        "result1 = (var1 or var2) and (8 * 10 > 45)\n",
        "result2 = (var1 or var2) and (result1 and False)\n",
        "result3 = (var1 and result1) or result2\n",
        "result4 = (var1 or var2) or ((var3 and var1) and False)\n",
        "result5 = (var1 and var2) and (result3 or var1)\n",
        "result6 = ((var3 or var2) and not(result5)) or True\n",
        "result7 = (var4 and result1) and ((result1 and False) or True)\n",
        "result8 = ((var1 and result3) and (var5 or var6)) and True\n",
        "result9 = ((result2 and var2) or (result7 and var1)) and False\n",
        "result10 = not(var1 and True)\n",
        "\n",
        "\n",
        "print(result1)\n",
        "print(result2)\n",
        "print(result3)\n",
        "print(result4)\n",
        "print(result5)\n",
        "print(result6)\n",
        "print(result7)\n",
        "print(result8)\n",
        "print(result9)\n",
        "print(result10)\n",
        "\n",
        "\n",
        "\n",
        "\n",
        "\n"
      ],
      "metadata": {
        "colab": {
          "base_uri": "https://localhost:8080/"
        },
        "id": "Bfl4v11W4PgW",
        "outputId": "b4e59b6f-981d-4990-ef34-1b357eaaa67b"
      },
      "execution_count": null,
      "outputs": [
        {
          "output_type": "stream",
          "name": "stdout",
          "text": [
            "True\n",
            "False\n",
            "True\n",
            "True\n",
            "False\n",
            "True\n",
            "False\n",
            "True\n",
            "False\n",
            "False\n"
          ]
        }
      ]
    },
    {
      "cell_type": "markdown",
      "source": [
        "**Task 18**\n"
      ],
      "metadata": {
        "id": "Tf8mYArv9Daa"
      }
    },
    {
      "cell_type": "code",
      "source": [
        "var1 = False\n",
        "var2 = False\n",
        "var3 = False\n",
        "var4 = False\n",
        "var5 = False\n",
        "var6 = False\n",
        "result1 = False\n",
        "result2 = False\n",
        "result3 = False\n",
        "result4 = False\n",
        "result5 = False\n",
        "result6 = False\n",
        "result7 = False\n",
        "result8 = False\n",
        "result9 = False\n",
        "result10 = False\n",
        "var1 = ((not True) or True) and False\n",
        "var2 = var1 and False\n",
        "var3 = True and not False\n",
        "var4 = False\n",
        "var5 = True\n",
        "var6 = var3 and False\n",
        "result1 = (var1 and var2) and (40 % 3) > 45 or (var5 and var6)\n",
        "result2 = (var1 or var2) or (result1 and False)\n",
        "result3 = (var1 and result1) or result2 or var5\n",
        "result4 = (var1 or var2) or ((var3 and var1) and False)\n",
        "result5 = (var1 and var2) and (result3 or var1)\n",
        "result6 = ((var3 or (not var2)) and (result5)) or True\n",
        "result7 = (var4 and result1) and ((result1 and False) or True)\n",
        "result8 = ((var1 and result3) and ((not var5) or var6)) and True\n",
        "result9 = ((result2 and var2) or ((not result7) and var1)) and not False\n",
        "result10 = not(var1 and True)\n",
        "\n",
        "print(result1)\n",
        "print(result2)\n",
        "print(result3)\n",
        "print(result4)\n",
        "print(result5)\n",
        "print(result6)\n",
        "print(result7)\n",
        "print(result8)\n",
        "print(result9)\n",
        "print(result10)\n",
        "\n"
      ],
      "metadata": {
        "colab": {
          "base_uri": "https://localhost:8080/"
        },
        "id": "md8KI1f39E_S",
        "outputId": "be0fd1a2-0474-4d2b-dd53-fc3e66afb0a7"
      },
      "execution_count": null,
      "outputs": [
        {
          "output_type": "stream",
          "name": "stdout",
          "text": [
            "False\n",
            "False\n",
            "True\n",
            "False\n",
            "False\n",
            "True\n",
            "False\n",
            "False\n",
            "False\n",
            "True\n"
          ]
        }
      ]
    },
    {
      "cell_type": "markdown",
      "source": [
        "**Task 19**"
      ],
      "metadata": {
        "id": "3ewyQ14X9UnY"
      }
    },
    {
      "cell_type": "code",
      "source": [
        "var1 = var2 = var3 = var4 = var5 = var6 = False\n",
        "result1 = result2 = result3 = result4 = result5 = result6 = False\n",
        "result7 = result8 = result9 = result10 = False\n",
        "var1 = (not False or False) and True\n",
        "var2 = var1 and True\n",
        "var3 = False and not True\n",
        "var4 = True\n",
        "var5 = False\n",
        "var6 = var3 and True\n",
        "result1 = (var1 and var2) and ( 40 % 3 > 45) or (var5 and var6)\n",
        "result2 = (var1 or var2) or (result1 and False)\n",
        "result3 = (var1 and result1) or result2 or var5\n",
        "result4 = (var1 or var2) or ((var3 and var1) and False)\n",
        "result5 = (var1 and var2) and (result3 or var1)\n",
        "result6 = ((var3 or not var2) and (result5)) or True\n",
        "result7 = (var4 and result1) and ((result1 and False) or True)\n",
        "result8 = ((var1 and result3) and (not var5 or var6)) and True\n",
        "result9 = ((result2 and var2) or (not result7 and var1)) and not False\n",
        "result10 = not (var1 and True)\n",
        "\n",
        "\n",
        "\n",
        "print(result1)\n",
        "print(result2)\n",
        "print(result3)\n",
        "print(result4)\n",
        "print(result5)\n",
        "print(result6)\n",
        "print(result7)\n",
        "print(result8)\n",
        "print(result9)\n",
        "print(result10)\n"
      ],
      "metadata": {
        "colab": {
          "base_uri": "https://localhost:8080/"
        },
        "id": "2SaGYxam9V7j",
        "outputId": "dd61720b-0f47-43c9-96ad-57c6a478c90f"
      },
      "execution_count": null,
      "outputs": [
        {
          "output_type": "stream",
          "name": "stdout",
          "text": [
            "False\n",
            "True\n",
            "True\n",
            "True\n",
            "True\n",
            "True\n",
            "False\n",
            "True\n",
            "True\n",
            "False\n"
          ]
        }
      ]
    },
    {
      "cell_type": "code",
      "source": [
        "var1 = var2 = var3 = var4 = var5 = var6 = False\n",
        "result1 = result2 = result3 = result4 = result5 = result6 = False\n",
        "result7 = result8 = result9 = result10 = False\n",
        "var1 = (not False or False) and True\n",
        "var2 = var1 and True\n",
        "var3 = False and not True\n",
        "var4 = True\n",
        "var5 = False\n",
        "var6 = var3 and True\n",
        "\n",
        "print(var1)\n",
        "print(var2)\n",
        "print(var3)\n",
        "print(var4)\n",
        "print(var5)\n",
        "print(var6)"
      ],
      "metadata": {
        "colab": {
          "base_uri": "https://localhost:8080/"
        },
        "id": "la2LXNhUFi8V",
        "outputId": "9de21088-c221-43d0-88d3-9d2cc58a7a13"
      },
      "execution_count": null,
      "outputs": [
        {
          "output_type": "stream",
          "name": "stdout",
          "text": [
            "True\n",
            "True\n",
            "False\n",
            "True\n",
            "False\n",
            "False\n"
          ]
        }
      ]
    }
  ]
}