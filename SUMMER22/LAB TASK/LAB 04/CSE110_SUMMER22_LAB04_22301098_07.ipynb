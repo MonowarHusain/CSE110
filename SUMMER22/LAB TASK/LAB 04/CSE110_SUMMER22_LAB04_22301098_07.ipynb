{
  "nbformat": 4,
  "nbformat_minor": 0,
  "metadata": {
    "colab": {
      "provenance": [],
      "authorship_tag": "ABX9TyM7fq+TXUKnJ1OoehrEhE42",
      "include_colab_link": true
    },
    "kernelspec": {
      "name": "python3",
      "display_name": "Python 3"
    },
    "language_info": {
      "name": "python"
    }
  },
  "cells": [
    {
      "cell_type": "markdown",
      "metadata": {
        "id": "view-in-github",
        "colab_type": "text"
      },
      "source": [
        "<a href=\"https://colab.research.google.com/github/MonowarHusain/CSE110_PROGRAMMING-LANGUAGE-I/blob/main/SUMMER22/LAB%20TASK/LAB%2004/CSE110_SUMMER22_LAB04_22301098_07.ipynb\" target=\"_parent\"><img src=\"https://colab.research.google.com/assets/colab-badge.svg\" alt=\"Open In Colab\"/></a>"
      ]
    },
    {
      "cell_type": "code",
      "execution_count": null,
      "metadata": {
        "colab": {
          "base_uri": "https://localhost:8080/"
        },
        "id": "TpRFchdDJN5g",
        "outputId": "7d84573d-f9b0-4853-fa95-7f334d9499e9"
      },
      "outputs": [
        {
          "output_type": "stream",
          "name": "stdout",
          "text": [
            "3\n",
            "3\n",
            "5\n",
            "8\n",
            "4\n",
            "[3, 3, 5, 8, 4]\n"
          ]
        }
      ],
      "source": [
        "\n",
        "#task01\n",
        "lista = []\n",
        "\n",
        "\n",
        "\n",
        "for i in range(5):\n",
        "    ele = int(input())\n",
        "\n",
        "    lista.append(ele)\n",
        "\n",
        "print(lista)"
      ]
    },
    {
      "cell_type": "code",
      "source": [
        "print(\"Give input exactly like the Question says including Square Brace's.\")\n",
        "lst = input(\"\")\n",
        "\n",
        "# If i use this method then i will have you input the value with comma only like 8,3,5,5\n",
        "#str_lst = lst.split(',')\n",
        "\n",
        "# I used this string slicing cause if i take the input exactly like the question [1, 2, 3, 4, 5, 6, 7] it won't through any error.\n",
        "str_lst = lst[1:-1].split(',')\n",
        "\n",
        "mod_lst = []\n",
        "\n",
        "for i in str_lst:\n",
        "  mod_lst.append(int(i))\n",
        "if len(mod_lst)>=4:\n",
        "  print(mod_lst[2:-2])\n",
        "else:\n",
        "      print(\"Not possible\")\n"
      ],
      "metadata": {
        "colab": {
          "base_uri": "https://localhost:8080/",
          "height": 277
        },
        "id": "_-ySk9LWL_bK",
        "outputId": "a0d21f26-2c58-4e5b-bb70-a10699cbdcf4"
      },
      "execution_count": null,
      "outputs": [
        {
          "name": "stdout",
          "output_type": "stream",
          "text": [
            "Give input exactly like the Question says including Square Brace's.\n",
            "10\n"
          ]
        },
        {
          "output_type": "error",
          "ename": "ValueError",
          "evalue": "ignored",
          "traceback": [
            "\u001b[0;31m---------------------------------------------------------------------------\u001b[0m",
            "\u001b[0;31mValueError\u001b[0m                                Traceback (most recent call last)",
            "\u001b[0;32m<ipython-input-8-d38dbdcc6243>\u001b[0m in \u001b[0;36m<module>\u001b[0;34m()\u001b[0m\n\u001b[1;32m     11\u001b[0m \u001b[0;34m\u001b[0m\u001b[0m\n\u001b[1;32m     12\u001b[0m \u001b[0;32mfor\u001b[0m \u001b[0mi\u001b[0m \u001b[0;32min\u001b[0m \u001b[0mstr_lst\u001b[0m\u001b[0;34m:\u001b[0m\u001b[0;34m\u001b[0m\u001b[0;34m\u001b[0m\u001b[0m\n\u001b[0;32m---> 13\u001b[0;31m   \u001b[0mmod_lst\u001b[0m\u001b[0;34m.\u001b[0m\u001b[0mappend\u001b[0m\u001b[0;34m(\u001b[0m\u001b[0mint\u001b[0m\u001b[0;34m(\u001b[0m\u001b[0mi\u001b[0m\u001b[0;34m)\u001b[0m\u001b[0;34m)\u001b[0m\u001b[0;34m\u001b[0m\u001b[0;34m\u001b[0m\u001b[0m\n\u001b[0m\u001b[1;32m     14\u001b[0m \u001b[0;32mif\u001b[0m \u001b[0mlen\u001b[0m\u001b[0;34m(\u001b[0m\u001b[0mmod_lst\u001b[0m\u001b[0;34m)\u001b[0m\u001b[0;34m>=\u001b[0m\u001b[0;36m4\u001b[0m\u001b[0;34m:\u001b[0m\u001b[0;34m\u001b[0m\u001b[0;34m\u001b[0m\u001b[0m\n\u001b[1;32m     15\u001b[0m   \u001b[0mprint\u001b[0m\u001b[0;34m(\u001b[0m\u001b[0mmod_lst\u001b[0m\u001b[0;34m[\u001b[0m\u001b[0;36m2\u001b[0m\u001b[0;34m:\u001b[0m\u001b[0;34m-\u001b[0m\u001b[0;36m2\u001b[0m\u001b[0;34m]\u001b[0m\u001b[0;34m)\u001b[0m\u001b[0;34m\u001b[0m\u001b[0;34m\u001b[0m\u001b[0m\n",
            "\u001b[0;31mValueError\u001b[0m: invalid literal for int() with base 10: ''"
          ]
        }
      ]
    },
    {
      "cell_type": "code",
      "source": [
        "\n",
        "\n",
        "mk=[]\n",
        "for ki in range(7):\n",
        "    nj=int(input())\n",
        "    mk.append(nj)\n",
        "\n",
        "large = mk[0]\n",
        "\n",
        "\n",
        "for nk in range(7):\n",
        "    if large<mk[nk]:\n",
        "        large=mk[nk]\n",
        "\n",
        "\n",
        "mk= new_list\n",
        "print(mk)\n",
        "\n",
        "new_list.remove(large)\n",
        "\n",
        "lar=mk[0]\n",
        "indx=0\n",
        "for kk in range(len(new_list)):\n",
        "    if lar<new_list[kk]:\n",
        "        lar=new_list[kk]\n",
        "        indx=kk\n",
        "\n",
        "\n",
        "#print(mk)\n",
        "\n",
        "print(lar)\n",
        "print(new_list.index(lar))"
      ],
      "metadata": {
        "colab": {
          "base_uri": "https://localhost:8080/",
          "height": 366
        },
        "id": "GWc8RTB_99_H",
        "outputId": "da574484-d4b3-4577-8769-5542e7bec817"
      },
      "execution_count": 1,
      "outputs": [
        {
          "output_type": "error",
          "ename": "KeyboardInterrupt",
          "evalue": "Interrupted by user",
          "traceback": [
            "\u001b[0;31m---------------------------------------------------------------------------\u001b[0m",
            "\u001b[0;31mKeyboardInterrupt\u001b[0m                         Traceback (most recent call last)",
            "\u001b[0;32m<ipython-input-1-c6c025ba2cb3>\u001b[0m in \u001b[0;36m<cell line: 2>\u001b[0;34m()\u001b[0m\n\u001b[1;32m      1\u001b[0m \u001b[0mmk\u001b[0m\u001b[0;34m=\u001b[0m\u001b[0;34m[\u001b[0m\u001b[0;34m]\u001b[0m\u001b[0;34m\u001b[0m\u001b[0;34m\u001b[0m\u001b[0m\n\u001b[1;32m      2\u001b[0m \u001b[0;32mfor\u001b[0m \u001b[0mki\u001b[0m \u001b[0;32min\u001b[0m \u001b[0mrange\u001b[0m\u001b[0;34m(\u001b[0m\u001b[0;36m7\u001b[0m\u001b[0;34m)\u001b[0m\u001b[0;34m:\u001b[0m\u001b[0;34m\u001b[0m\u001b[0;34m\u001b[0m\u001b[0m\n\u001b[0;32m----> 3\u001b[0;31m     \u001b[0mnj\u001b[0m\u001b[0;34m=\u001b[0m\u001b[0mint\u001b[0m\u001b[0;34m(\u001b[0m\u001b[0minput\u001b[0m\u001b[0;34m(\u001b[0m\u001b[0;34m)\u001b[0m\u001b[0;34m)\u001b[0m\u001b[0;34m\u001b[0m\u001b[0;34m\u001b[0m\u001b[0m\n\u001b[0m\u001b[1;32m      4\u001b[0m     \u001b[0mmk\u001b[0m\u001b[0;34m.\u001b[0m\u001b[0mappend\u001b[0m\u001b[0;34m(\u001b[0m\u001b[0mnj\u001b[0m\u001b[0;34m)\u001b[0m\u001b[0;34m\u001b[0m\u001b[0;34m\u001b[0m\u001b[0m\n\u001b[1;32m      5\u001b[0m \u001b[0;34m\u001b[0m\u001b[0m\n",
            "\u001b[0;32m/usr/local/lib/python3.10/dist-packages/ipykernel/kernelbase.py\u001b[0m in \u001b[0;36mraw_input\u001b[0;34m(self, prompt)\u001b[0m\n\u001b[1;32m    849\u001b[0m                 \u001b[0;34m\"raw_input was called, but this frontend does not support input requests.\"\u001b[0m\u001b[0;34m\u001b[0m\u001b[0;34m\u001b[0m\u001b[0m\n\u001b[1;32m    850\u001b[0m             )\n\u001b[0;32m--> 851\u001b[0;31m         return self._input_request(str(prompt),\n\u001b[0m\u001b[1;32m    852\u001b[0m             \u001b[0mself\u001b[0m\u001b[0;34m.\u001b[0m\u001b[0m_parent_ident\u001b[0m\u001b[0;34m,\u001b[0m\u001b[0;34m\u001b[0m\u001b[0;34m\u001b[0m\u001b[0m\n\u001b[1;32m    853\u001b[0m             \u001b[0mself\u001b[0m\u001b[0;34m.\u001b[0m\u001b[0m_parent_header\u001b[0m\u001b[0;34m,\u001b[0m\u001b[0;34m\u001b[0m\u001b[0;34m\u001b[0m\u001b[0m\n",
            "\u001b[0;32m/usr/local/lib/python3.10/dist-packages/ipykernel/kernelbase.py\u001b[0m in \u001b[0;36m_input_request\u001b[0;34m(self, prompt, ident, parent, password)\u001b[0m\n\u001b[1;32m    893\u001b[0m             \u001b[0;32mexcept\u001b[0m \u001b[0mKeyboardInterrupt\u001b[0m\u001b[0;34m:\u001b[0m\u001b[0;34m\u001b[0m\u001b[0;34m\u001b[0m\u001b[0m\n\u001b[1;32m    894\u001b[0m                 \u001b[0;31m# re-raise KeyboardInterrupt, to truncate traceback\u001b[0m\u001b[0;34m\u001b[0m\u001b[0;34m\u001b[0m\u001b[0m\n\u001b[0;32m--> 895\u001b[0;31m                 \u001b[0;32mraise\u001b[0m \u001b[0mKeyboardInterrupt\u001b[0m\u001b[0;34m(\u001b[0m\u001b[0;34m\"Interrupted by user\"\u001b[0m\u001b[0;34m)\u001b[0m \u001b[0;32mfrom\u001b[0m \u001b[0;32mNone\u001b[0m\u001b[0;34m\u001b[0m\u001b[0;34m\u001b[0m\u001b[0m\n\u001b[0m\u001b[1;32m    896\u001b[0m             \u001b[0;32mexcept\u001b[0m \u001b[0mException\u001b[0m \u001b[0;32mas\u001b[0m \u001b[0me\u001b[0m\u001b[0;34m:\u001b[0m\u001b[0;34m\u001b[0m\u001b[0;34m\u001b[0m\u001b[0m\n\u001b[1;32m    897\u001b[0m                 \u001b[0mself\u001b[0m\u001b[0;34m.\u001b[0m\u001b[0mlog\u001b[0m\u001b[0;34m.\u001b[0m\u001b[0mwarning\u001b[0m\u001b[0;34m(\u001b[0m\u001b[0;34m\"Invalid Message:\"\u001b[0m\u001b[0;34m,\u001b[0m \u001b[0mexc_info\u001b[0m\u001b[0;34m=\u001b[0m\u001b[0;32mTrue\u001b[0m\u001b[0;34m)\u001b[0m\u001b[0;34m\u001b[0m\u001b[0;34m\u001b[0m\u001b[0m\n",
            "\u001b[0;31mKeyboardInterrupt\u001b[0m: Interrupted by user"
          ]
        }
      ]
    },
    {
      "cell_type": "code",
      "source": [
        "#task3\n",
        "store = []\n",
        "count = 0\n",
        "\n",
        "while count<5:\n",
        "  value = int(input(\"\"))\n",
        "  store.append(value)\n",
        "  count+=1\n",
        "\n",
        "print(\"Input data:\",store)\n",
        "print(\"Printing values from the list in reverse order:\")\n",
        "for i in store[::-1]:\n",
        "  print(i)"
      ],
      "metadata": {
        "colab": {
          "base_uri": "https://localhost:8080/"
        },
        "id": "8Su-v55PN2eu",
        "outputId": "00fff279-4a53-4b5b-b8ea-83a66e82dc70"
      },
      "execution_count": null,
      "outputs": [
        {
          "output_type": "stream",
          "name": "stdout",
          "text": [
            "5\n",
            "-5\n",
            "100\n",
            "1\n",
            "0\n",
            "Input data: [5, -5, 100, 1, 0]\n",
            "Printing values from the list in reverse order:\n",
            "0\n",
            "1\n",
            "100\n",
            "-5\n",
            "5\n"
          ]
        }
      ]
    },
    {
      "cell_type": "code",
      "source": [
        "#04\n",
        "given_list = [3,5,1,6]\n",
        "\n",
        "sqr_lst = []\n",
        "\n",
        "for i in given_list:\n",
        "  sqr_lst.append(int(i)**2)\n",
        "print(sqr_lst)"
      ],
      "metadata": {
        "colab": {
          "base_uri": "https://localhost:8080/"
        },
        "id": "VENiUqHhOHDQ",
        "outputId": "d8c1d80b-3142-489c-d0fd-f30cff88170d"
      },
      "execution_count": null,
      "outputs": [
        {
          "output_type": "stream",
          "name": "stdout",
          "text": [
            "[9, 25, 1, 36]\n"
          ]
        }
      ]
    },
    {
      "cell_type": "code",
      "source": [
        "#05\n",
        "given_list = [\"Hey\",\"there\",\"what's\",\"\",\"up\",\"\",\"?\"]\n",
        "print(f\"Original List:{given_list}\")\n",
        "\n",
        "while '' in given_list:\n",
        "  given_list.remove('')\n",
        "print(f\"Modified List:{given_list}\")"
      ],
      "metadata": {
        "colab": {
          "base_uri": "https://localhost:8080/"
        },
        "id": "ri72_RMhOMwn",
        "outputId": "2e3dbefc-f60d-4880-df02-5ef30aa60f9d"
      },
      "execution_count": null,
      "outputs": [
        {
          "output_type": "stream",
          "name": "stdout",
          "text": [
            "Original List:['Hey', 'there', \"what's\", '', 'up', '', '?']\n",
            "Modified List:['Hey', 'there', \"what's\", 'up', '?']\n"
          ]
        }
      ]
    },
    {
      "cell_type": "code",
      "source": [
        "#06\n",
        "\n",
        "new_lst = []\n",
        "\n",
        "for j in range(7):\n",
        "  num = int(input(\"\"))\n",
        "  new_lst.append(int(num))\n",
        "\n",
        "lar_num = new_lst[0]\n",
        "idx = 0\n",
        "for i in range(len(new_lst)):\n",
        "  if lar_num<new_lst[i]:\n",
        "    lar_num=new_lst[i]\n",
        "    idx=i\n",
        "\n",
        "print(f\"My list:{new_lst}\\nLargest number in the list is {lar_num} which was found at index {idx}.\")"
      ],
      "metadata": {
        "colab": {
          "base_uri": "https://localhost:8080/"
        },
        "id": "1oSh3OPFPEyZ",
        "outputId": "335deb75-7624-4d30-c222-765d591b436f"
      },
      "execution_count": null,
      "outputs": [
        {
          "output_type": "stream",
          "name": "stdout",
          "text": [
            "7\n",
            "13\n",
            "2\n",
            "10\n",
            "6\n",
            "My list:[7, 13, 2, 10, 6]\n",
            "Largest number in the list is 13 which was found at index 1.\n"
          ]
        }
      ]
    },
    {
      "cell_type": "code",
      "source": [
        "#07\n",
        "List_one = [1, 3, 5, 7, 9, 10]\n",
        "List_two = [2,4,6,8]\n",
        "\n",
        "List_one.pop()\n",
        "List_one.extend(List_two)\n",
        "print(List_one)"
      ],
      "metadata": {
        "colab": {
          "base_uri": "https://localhost:8080/"
        },
        "id": "oIQUcq-3U91I",
        "outputId": "84abb54f-a523-4e7b-a043-18b0b6526382"
      },
      "execution_count": null,
      "outputs": [
        {
          "output_type": "stream",
          "name": "stdout",
          "text": [
            "[1, 3, 5, 7, 9, 2, 4, 6, 8]\n"
          ]
        }
      ]
    },
    {
      "cell_type": "code",
      "source": [
        "#08\n",
        "\n",
        "list_one = [1, 2, 3, 4, 5, 6, 7, 8, 9]\n",
        "list_two = [10, 11, 12, -13, -14, -15, -16]\n",
        "\n",
        "new_list = []\n",
        "\n",
        "for i in list_one:\n",
        "  if int(i)%2==0:\n",
        "    new_list.append(int(i))\n",
        "for j in list_two:\n",
        "  if int(j)%2==0:\n",
        "    new_list.append(int(j))\n",
        "\n",
        "print(new_list)"
      ],
      "metadata": {
        "colab": {
          "base_uri": "https://localhost:8080/"
        },
        "id": "EtyS6FXUVFWS",
        "outputId": "363c2951-616f-4b01-c69a-1121b42c3307"
      },
      "execution_count": null,
      "outputs": [
        {
          "output_type": "stream",
          "name": "stdout",
          "text": [
            "[2, 4, 6, 8, 10, 12, -14, -16]\n"
          ]
        }
      ]
    },
    {
      "cell_type": "code",
      "source": [
        "#09\n",
        "\n",
        "words = '7 12 4 55 96 2 11 61 33 42'\n",
        "length = len(words)\n",
        "\n",
        "new_list =[]\n",
        "store = ''\n",
        "for i in range(length):\n",
        "    if words[i] !='':\n",
        "        store = store + words[i]\n",
        "    else:\n",
        "        new_list.append(store)\n",
        "        store = ''\n",
        "\n",
        "new_list.append(store)\n",
        "print(new_list)\n",
        "\n"
      ],
      "metadata": {
        "colab": {
          "base_uri": "https://localhost:8080/"
        },
        "id": "-Ge4PNBdVeX_",
        "outputId": "d47e0cbf-6820-4498-856a-cf97caa9944c"
      },
      "execution_count": null,
      "outputs": [
        {
          "output_type": "stream",
          "name": "stdout",
          "text": [
            "['7 12 4 55 96 2 11 61 33 42']\n"
          ]
        }
      ]
    },
    {
      "cell_type": "code",
      "source": [
        "#10\n",
        "lst = input(\"\").split(\",\")\n",
        "\n",
        "list1 = []\n",
        "list2 = []\n",
        "\n",
        "for i in lst:\n",
        "  list1.append(int(i))\n",
        "\n",
        "for j in list1:\n",
        "  if j not in list2:\n",
        "    list2.append(j)\n",
        "\n",
        "print(f\"Input list:{list1}\\nModified list:{list2}\")"
      ],
      "metadata": {
        "id": "9_JFEx-MXnW_"
      },
      "execution_count": null,
      "outputs": []
    }
  ]
}