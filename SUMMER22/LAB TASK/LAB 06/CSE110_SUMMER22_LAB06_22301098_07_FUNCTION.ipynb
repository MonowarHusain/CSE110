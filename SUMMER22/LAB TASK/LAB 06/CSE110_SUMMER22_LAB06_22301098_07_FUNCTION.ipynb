{
  "nbformat": 4,
  "nbformat_minor": 0,
  "metadata": {
    "colab": {
      "provenance": [],
      "include_colab_link": true
    },
    "kernelspec": {
      "name": "python3",
      "display_name": "Python 3"
    },
    "language_info": {
      "name": "python"
    }
  },
  "cells": [
    {
      "cell_type": "markdown",
      "metadata": {
        "id": "view-in-github",
        "colab_type": "text"
      },
      "source": [
        "<a href=\"https://colab.research.google.com/github/MonowarHusain/CSE110_PROGRAMMING-LANGUAGE-I/blob/main/SUMMER22/LAB%20TASK/LAB%2006/CSE110_SUMMER22_LAB06_22301098_07_FUNCTION.ipynb\" target=\"_parent\"><img src=\"https://colab.research.google.com/assets/colab-badge.svg\" alt=\"Open In Colab\"/></a>"
      ]
    },
    {
      "cell_type": "code",
      "execution_count": null,
      "metadata": {
        "colab": {
          "base_uri": "https://localhost:8080/"
        },
        "id": "1tVv6fCOFy2y",
        "outputId": "3360d2a0-c5a3-4e8a-962d-1b3542619a88"
      },
      "outputs": [
        {
          "output_type": "stream",
          "name": "stdout",
          "text": [
            "Enter your Number: 5\n",
            "Odd!!\n"
          ]
        }
      ],
      "source": [
        "#task01\n",
        "\n",
        "def even_checker(number):\n",
        "    if number%2==0:\n",
        "        print('Even!!')\n",
        "    else:\n",
        "        print('Odd!!')\n",
        "\n",
        "user_input = int(input('Enter your Number: '))\n",
        "even_checker(user_input)\n"
      ]
    },
    {
      "cell_type": "code",
      "source": [
        "#task_02\n",
        "def fibonacci(number):\n",
        "\n",
        "    n1,n2=0,1\n",
        "\n",
        "    #count=0\n",
        "    while n1<number+1:\n",
        "        print(n1,end=' ')\n",
        "        nth=n1+n2\n",
        "        n1=n2\n",
        "        n2=nth\n",
        "user_input = int(input('Enter your Number: '))\n",
        "fibonacci(user_input)"
      ],
      "metadata": {
        "colab": {
          "base_uri": "https://localhost:8080/"
        },
        "id": "d0Kgs4fevrEx",
        "outputId": "0bf23a86-07e5-4968-b177-607c85983023"
      },
      "execution_count": null,
      "outputs": [
        {
          "output_type": "stream",
          "name": "stdout",
          "text": [
            "Enter your Number: 10\n",
            "0 1 1 2 3 5 8 "
          ]
        }
      ]
    },
    {
      "cell_type": "code",
      "source": [
        "#task_03\n",
        "\n",
        "def foo_moo(number):\n",
        "\n",
        "    if number%2==0 and number%3==0:\n",
        "        print('FooMoo')\n",
        "    elif number%2==0:\n",
        "        print('Foo')\n",
        "    elif number%3==0:\n",
        "        print('Moo')\n",
        "    else:\n",
        "        print('Boo')\n",
        "user_input = int(input('Enter your Number: '))\n",
        "foo_moo(user_input)"
      ],
      "metadata": {
        "colab": {
          "base_uri": "https://localhost:8080/"
        },
        "id": "hkP5BXjeGPfO",
        "outputId": "f586903d-f4a9-4994-d009-9cf5249d9d89"
      },
      "execution_count": null,
      "outputs": [
        {
          "output_type": "stream",
          "name": "stdout",
          "text": [
            "Enter your Number: 5\n",
            "Boo\n"
          ]
        }
      ]
    },
    {
      "cell_type": "code",
      "source": [
        "#task04(w/o builtin fn)\n",
        "user_input = input('Enter your Words: ')\n",
        "def function_name(words):\n",
        "    upper_count=0\n",
        "    lower_count=0\n",
        "\n",
        "    for imn in words:\n",
        "        for kmn in range(65,91):\n",
        "            if imn == chr(kmn):\n",
        "                upper_count+=1\n",
        "            else:\n",
        "                pass\n",
        "        for kmn in range(97,122):\n",
        "            if imn == chr(kmn):\n",
        "                lower_count+=1\n",
        "            else:\n",
        "                pass\n",
        "\n",
        "    print('No. of Uppercase characters : ',upper_count)\n",
        "    print('No. of Lowercase Characters : ',lower_count)\n",
        "\n",
        "\n",
        "function_name(user_input)\n"
      ],
      "metadata": {
        "id": "zWZegK1-HWC1",
        "colab": {
          "base_uri": "https://localhost:8080/"
        },
        "outputId": "be4e6022-a3b3-4504-c99a-6c63e7c453de"
      },
      "execution_count": null,
      "outputs": [
        {
          "output_type": "stream",
          "name": "stdout",
          "text": [
            "Enter your Words: fhnbdsrhDD\n",
            "No. of Uppercase characters :  2\n",
            "No. of Lowercase Characters :  8\n"
          ]
        }
      ]
    },
    {
      "cell_type": "code",
      "source": [
        "#task04(MSI)\n",
        "user_input = input('Enter your Words: ')\n",
        "def function_name(words):\n",
        "\n",
        "    new_word=''\n",
        "\n",
        "    for i in words:\n",
        "        if i != ' ':\n",
        "            new_word = new_word + i\n",
        "    upper_count=0\n",
        "    lower_count=0\n",
        "\n",
        "    for i in new_word:\n",
        "        if i.islower():\n",
        "            lower_count+=1\n",
        "        else:\n",
        "            upper_count+=1\n",
        "\n",
        "    print('No. of Uppercase characters : ',upper_count)\n",
        "    print('No. of Lowercase Characters : ',lower_count)\n",
        "\n",
        "\n",
        "function_name(user_input)"
      ],
      "metadata": {
        "colab": {
          "base_uri": "https://localhost:8080/"
        },
        "id": "9hdqowWcMGCQ",
        "outputId": "fe42e4e4-e007-4286-ba7a-75de10cbdf66"
      },
      "execution_count": null,
      "outputs": [
        {
          "output_type": "stream",
          "name": "stdout",
          "text": [
            "Enter your Words: The quick Sand Man\n",
            "No. of Uppercase characters :  3\n",
            "No. of Lowercase Characters :  12\n"
          ]
        }
      ]
    },
    {
      "cell_type": "code",
      "source": [
        "#task_05(MSI)\n",
        "\n",
        "def calculate_tax(age1,sal,desig):\n",
        "\n",
        "    tax=0\n",
        "    if age1<18 or sal<10000 or desig=='president':\n",
        "        tax=0\n",
        "    elif sal>=10000 and sal<=20000:\n",
        "        tax=sal*5/100\n",
        "    elif sal>20000:\n",
        "        tax=sal*10/100\n",
        "    return tax\n",
        "\n",
        "age=int(input('Sir, Please enter your Age: '))\n",
        "salary=float(input('Sir, Please enter your Salary: '))\n",
        "designation=input('Sir, Please enter your Designation: ')\n",
        "\n",
        "xmn=calculate_tax(age,salary,designation)\n",
        "print(xmn)"
      ],
      "metadata": {
        "id": "VTtBPtBkOOcZ",
        "colab": {
          "base_uri": "https://localhost:8080/"
        },
        "outputId": "edc91f87-de20-4b20-aef1-4ea309dfe8a8"
      },
      "execution_count": null,
      "outputs": [
        {
          "output_type": "stream",
          "name": "stdout",
          "text": [
            "Sir, Please enter your Age: 20\n",
            "Sir, Please enter your Salary: 18000\n",
            "Sir, Please enter your Designation: gfx\n",
            "900.0\n"
          ]
        }
      ]
    },
    {
      "cell_type": "code",
      "source": [
        "#Task_06\n",
        "user_input = int(input('Enter your desired days: '))\n",
        "def function_name(days):\n",
        "\n",
        "    year = days//365\n",
        "    month=(days%365)//30\n",
        "    day=(days%365)%30\n",
        "\n",
        "    return year,month,day\n",
        "\n",
        "ymn,mnm,dmn=function_name(user_input)\n",
        "print('{} years, {} months and {} days'.format(ymn,mnm,dmn))"
      ],
      "metadata": {
        "colab": {
          "base_uri": "https://localhost:8080/"
        },
        "id": "996YgvWoRx1h",
        "outputId": "05049343-da26-4c96-a531-9ac6a0880e44"
      },
      "execution_count": null,
      "outputs": [
        {
          "output_type": "stream",
          "name": "stdout",
          "text": [
            "Enter your desired days: 2250\n",
            "6 years, 2 months and 0 days\n"
          ]
        }
      ]
    },
    {
      "cell_type": "code",
      "source": [
        "#task07\n",
        "def show_palindrome(number):\n",
        "    xmn=''\n",
        "\n",
        "    for ijk in range(1,nmn+1):\n",
        "        xmn+=str(ijk)\n",
        "    for imn in range(nmn-1,0,-1):\n",
        "        xmn+=str(imn)\n",
        "    print(xmn)\n",
        "nmn=int(input('Enter your desired number: '))\n",
        "show_palindrome(nmn)"
      ],
      "metadata": {
        "colab": {
          "base_uri": "https://localhost:8080/"
        },
        "id": "Lu1upr1syfsz",
        "outputId": "ffb8b61c-84b1-46a3-ab7d-9e054db821f1"
      },
      "execution_count": null,
      "outputs": [
        {
          "output_type": "stream",
          "name": "stdout",
          "text": [
            "Enter your desired number: 5\n",
            "123454321\n"
          ]
        }
      ]
    },
    {
      "cell_type": "code",
      "source": [
        "#task8\n",
        "def show_palindrome_triangle(jkl):\n",
        "    xmn=''\n",
        "    for nmn in range(0,jkl+1):\n",
        "        for imn in range(nmn,jkl+1):\n",
        "            print('  ',end='')\n",
        "        for imn in range(1,nmn+1):\n",
        "            xmn+=str(imn)+' '\n",
        "        for imn in range(nmn-1,0,-1):\n",
        "            xmn+=str(imn)+' '\n",
        "        print(xmn)\n",
        "        xmn=''\n",
        "kmn=int(input())\n",
        "show_palindrome_triangle(kmn)\n"
      ],
      "metadata": {
        "colab": {
          "base_uri": "https://localhost:8080/"
        },
        "id": "xDe5s6rF394n",
        "outputId": "d3bdc51a-47ca-48a3-e65f-64b4d635fd2d"
      },
      "execution_count": null,
      "outputs": [
        {
          "output_type": "stream",
          "name": "stdout",
          "text": [
            "10\n",
            "                      \n",
            "                    1 \n",
            "                  1 2 1 \n",
            "                1 2 3 2 1 \n",
            "              1 2 3 4 3 2 1 \n",
            "            1 2 3 4 5 4 3 2 1 \n",
            "          1 2 3 4 5 6 5 4 3 2 1 \n",
            "        1 2 3 4 5 6 7 6 5 4 3 2 1 \n",
            "      1 2 3 4 5 6 7 8 7 6 5 4 3 2 1 \n",
            "    1 2 3 4 5 6 7 8 9 8 7 6 5 4 3 2 1 \n",
            "  1 2 3 4 5 6 7 8 9 10 9 8 7 6 5 4 3 2 1 \n"
          ]
        }
      ]
    },
    {
      "cell_type": "code",
      "source": [
        "#task8\n",
        "def show_palindrome_triangle(j):\n",
        "    x=''\n",
        "    for n in range(0,j+1):\n",
        "        for i in range(n,j+1):\n",
        "            print('  ',end='')\n",
        "        for i in range(1,n+1):\n",
        "            x+=str(i)+' '\n",
        "        for i in range(n-1,0,-1):\n",
        "            x+=str(i)+' '\n",
        "        print(x)\n",
        "        x=''\n",
        "#n=int(input())\n",
        "#j=5\n",
        "show_palindrome_triangle(5)"
      ],
      "metadata": {
        "colab": {
          "base_uri": "https://localhost:8080/"
        },
        "id": "mwW2g_pJtIN4",
        "outputId": "dc2cbbe4-eea8-4760-fb73-414fd0cf7a1f"
      },
      "execution_count": null,
      "outputs": [
        {
          "output_type": "stream",
          "name": "stdout",
          "text": [
            "            \n",
            "          1 \n",
            "        1 2 1 \n",
            "      1 2 3 2 1 \n",
            "    1 2 3 4 3 2 1 \n",
            "  1 2 3 4 5 4 3 2 1 \n"
          ]
        }
      ]
    },
    {
      "cell_type": "code",
      "source": [
        "def show_palindrome_triangle(h):\n",
        "\n",
        "    for i in range(1,h+1):\n",
        "        for j in range(2*h-2*i):\n",
        "            print(' ',end='')\n",
        "        for s in range(1,i+1):\n",
        "            print(str(s),end=' ')\n",
        "        for k in range(i-1,0,-1):\n",
        "            print(str(k),end=' ')\n",
        "        print()\n",
        "show_palindrome_triangle(3)"
      ],
      "metadata": {
        "colab": {
          "base_uri": "https://localhost:8080/"
        },
        "id": "WJG6TFbHK0FG",
        "outputId": "f1e40901-92ed-4001-afdf-59e95fb3ab40"
      },
      "execution_count": null,
      "outputs": [
        {
          "output_type": "stream",
          "name": "stdout",
          "text": [
            "    1 \n",
            "  1 2 1 \n",
            "1 2 3 2 1 \n"
          ]
        }
      ]
    },
    {
      "cell_type": "code",
      "source": [
        "#task09\n",
        "import math\n",
        "def area_circumference_generator(nmn):\n",
        "    lst=[]\n",
        "    area = math.pi*nmn**2\n",
        "    circumference = 2*math.pi*nmn\n",
        "    lst.append(area)\n",
        "    lst.append(circumference)\n",
        "\n",
        "    xmn=tuple(lst)\n",
        "    print(xmn)\n",
        "    print('Area of the circle is {} and circumference is {}'.format(area,circumference))\n",
        "\n",
        "user_input = int(input('Sir, Please enter desired radius: '))\n",
        "area_circumference_generator(user_input)\n"
      ],
      "metadata": {
        "colab": {
          "base_uri": "https://localhost:8080/"
        },
        "id": "tjLWxEqpTFdL",
        "outputId": "f86476b0-1720-49f6-f43f-4186d3b38f3f"
      },
      "execution_count": null,
      "outputs": [
        {
          "output_type": "stream",
          "name": "stdout",
          "text": [
            "Sir, Please enter desired radius: 1\n",
            "(3.141592653589793, 6.283185307179586)\n",
            "Area of the circle is 3.141592653589793 and circumference is 6.283185307179586\n"
          ]
        }
      ]
    },
    {
      "cell_type": "code",
      "source": [
        "#task10\n",
        "def make_square(num1,num2):\n",
        "    pqs={}\n",
        "    for i in range(num1,num2+1):\n",
        "        pqs[i]=i**2\n",
        "    print(pqs)\n",
        "make_square(1,3)"
      ],
      "metadata": {
        "id": "WMFw9ITMnCZK"
      },
      "execution_count": null,
      "outputs": []
    },
    {
      "cell_type": "code",
      "source": [
        "def make_square(numbers):\n",
        "    pqs = {}\n",
        "    for num in range(numbers[0], numbers[1] + 1):\n",
        "        pqs[num] = num ** 2\n",
        "    return pqs\n",
        "\n",
        "make_square((1,3))\n"
      ],
      "metadata": {
        "colab": {
          "base_uri": "https://localhost:8080/"
        },
        "id": "02XZSbsGRIxg",
        "outputId": "131459b5-6fee-4deb-aeec-2d03d2034e89"
      },
      "execution_count": null,
      "outputs": [
        {
          "output_type": "execute_result",
          "data": {
            "text/plain": [
              "{1: 1, 2: 4, 3: 9}"
            ]
          },
          "metadata": {},
          "execution_count": 32
        }
      ]
    },
    {
      "cell_type": "code",
      "source": [
        "#task11\n",
        "def rem_duplicate(mono):\n",
        "    new=[]\n",
        "    for i in mono:\n",
        "        if i not in new:\n",
        "            new.append(i)\n",
        "    new_tuple=tuple(new)\n",
        "    print(new_tuple)\n",
        "\n",
        "\n",
        "\n",
        "rem_duplicate((\"Hi\", 1, 2, 3, 3, \"Hi\",'a', 'a', [1,2]))\n",
        "rem_duplicate((1,1,1,2,3,4,5,6,6,6,6,4,0,0,0))\n"
      ],
      "metadata": {
        "colab": {
          "base_uri": "https://localhost:8080/"
        },
        "id": "Iz-Q37ts_sJ9",
        "outputId": "5bd3a8f4-ba0c-4f41-c592-26198b396da0"
      },
      "execution_count": null,
      "outputs": [
        {
          "output_type": "stream",
          "name": "stdout",
          "text": [
            "('Hi', 1, 2, 3, 'a', [1, 2])\n",
            "(1, 2, 3, 4, 5, 6, 0)\n"
          ]
        }
      ]
    },
    {
      "cell_type": "code",
      "source": [
        "#13\n",
        "oppa = input()\n",
        "nu1 = float(input())\n",
        "nu2 = float (input())\n",
        "def function_name(operator,num1,num2):\n",
        "\n",
        "    if operator == '+':\n",
        "        sum = num1+num2\n",
        "    elif operator == '-':\n",
        "        sum = num1-num2\n",
        "    elif operator == '*':\n",
        "        sum = num1*num2\n",
        "    elif operator == '/':\n",
        "        sum = num1/num2\n",
        "    return sum\n",
        "\n",
        "som = function_name(oppa,nu1,nu2)\n",
        "print(som)"
      ],
      "metadata": {
        "colab": {
          "base_uri": "https://localhost:8080/"
        },
        "id": "nF_HDvFwTBGi",
        "outputId": "75c2cf4f-c654-4e26-9b40-e12588805345"
      },
      "execution_count": null,
      "outputs": [
        {
          "output_type": "stream",
          "name": "stdout",
          "text": [
            "*\n",
            "5.5\n",
            "2.5\n",
            "13.75\n"
          ]
        }
      ]
    },
    {
      "cell_type": "code",
      "source": [],
      "metadata": {
        "id": "6TJYykLgndFn"
      },
      "execution_count": null,
      "outputs": []
    },
    {
      "cell_type": "code",
      "source": [
        "#12\n",
        "def function_name(l):\n",
        "  li=[]\n",
        "  rem=0\n",
        "  for i in l:\n",
        "      if  i not in li:\n",
        "        li.append(i)\n",
        "      elif li.count(i)<2:\n",
        "        li.append(i)\n",
        "      else:\n",
        "        rem+=1\n",
        "  print(\"Removed:\",rem)\n",
        "  return li\n",
        "print(function_name([1, 2, 3, 3, 3, 3, 4, 5, 8, 8]))"
      ],
      "metadata": {
        "colab": {
          "base_uri": "https://localhost:8080/"
        },
        "id": "ms_zPtmInLJC",
        "outputId": "722b4fac-b110-411f-c1e5-128b3447ce26"
      },
      "execution_count": null,
      "outputs": [
        {
          "output_type": "stream",
          "name": "stdout",
          "text": [
            "Removed: 2\n",
            "[1, 2, 3, 3, 4, 5, 8, 8]\n"
          ]
        }
      ]
    },
    {
      "cell_type": "code",
      "source": [
        "#14\n",
        "def function_name(s,n):\n",
        "  r=s[0:1]\n",
        "  r2=''\n",
        "  for i in range(1,len(s)):\n",
        "    if i%n!=0:\n",
        "       r+=s[i]\n",
        "    else:\n",
        "       r2+=s[i]\n",
        "  r=r +r2\n",
        "  return r\n",
        "print(function_name(\"Python is easy to learn. I love python.\", 6))"
      ],
      "metadata": {
        "id": "TY9PxtjVnirH",
        "colab": {
          "base_uri": "https://localhost:8080/"
        },
        "outputId": "7ec6d9e7-efd7-4f85-fc08-9ace21c8cd35"
      },
      "execution_count": null,
      "outputs": [
        {
          "output_type": "stream",
          "name": "stdout",
          "text": [
            "Pythonis eay to earn.I lov pythn. sl eo\n"
          ]
        }
      ]
    },
    {
      "cell_type": "code",
      "source": [
        "#todo\n",
        "dict={\"Rice\":105,\"Potato\":20,\"Beef\":510,\"Chicken\":250,\"Oil\":85}\n",
        "\n",
        "def function_name(l,location=\"\"):\n",
        "  p=0\n",
        "  print(location)\n",
        "  if location==\"Dhanmondi\":\n",
        "\n",
        "    p+=30\n",
        "  else:\n",
        "    p+=70\n",
        "  for i in l:\n",
        "    if i in dict:\n",
        "       p+=dict[i]\n",
        "  return p\n",
        "print(function_name([\"Rice\", \"Beef\", \"Rice\"], \"Mohakhali\"))"
      ],
      "metadata": {
        "id": "m-oVWYrcnnbf",
        "colab": {
          "base_uri": "https://localhost:8080/"
        },
        "outputId": "9f9fef53-338c-4862-f8c4-e845657f2926"
      },
      "execution_count": null,
      "outputs": [
        {
          "output_type": "stream",
          "name": "stdout",
          "text": [
            "Mohakhali\n",
            "790\n"
          ]
        }
      ]
    }
  ]
}