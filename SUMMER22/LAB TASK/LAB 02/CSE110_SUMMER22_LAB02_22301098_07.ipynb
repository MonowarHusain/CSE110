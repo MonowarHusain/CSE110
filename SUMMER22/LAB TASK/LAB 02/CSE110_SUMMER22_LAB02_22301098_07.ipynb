{
  "nbformat": 4,
  "nbformat_minor": 0,
  "metadata": {
    "colab": {
      "provenance": [],
      "authorship_tag": "ABX9TyNQpiePjiARzuoz04mt0e1j",
      "include_colab_link": true
    },
    "kernelspec": {
      "name": "python3",
      "display_name": "Python 3"
    },
    "language_info": {
      "name": "python"
    }
  },
  "cells": [
    {
      "cell_type": "markdown",
      "metadata": {
        "id": "view-in-github",
        "colab_type": "text"
      },
      "source": [
        "<a href=\"https://colab.research.google.com/github/MonowarHusain/CSE110_PROGRAMMING-LANGUAGE-I/blob/main/SUMMER22/LAB%20TASK/LAB%2002/CSE110_SUMMER22_LAB02_22301098_07.ipynb\" target=\"_parent\"><img src=\"https://colab.research.google.com/assets/colab-badge.svg\" alt=\"Open In Colab\"/></a>"
      ]
    },
    {
      "cell_type": "markdown",
      "source": [
        "A 24, 18, 12, 6, 0, -6"
      ],
      "metadata": {
        "id": "HHIukx8ET5MK"
      }
    },
    {
      "cell_type": "code",
      "source": [
        "#task01\n",
        "\n",
        "count = 24\n",
        "\n",
        "while count >= -6:\n",
        "  if count != -6:\n",
        "    print(count, end = ',')\n",
        "  else:\n",
        "    print(count)\n",
        "  count = count-6"
      ],
      "metadata": {
        "colab": {
          "base_uri": "https://localhost:8080/"
        },
        "id": "Oj3wztICYery",
        "outputId": "c1c1dd72-1174-42fd-85d5-b8c6da06a049"
      },
      "execution_count": null,
      "outputs": [
        {
          "output_type": "stream",
          "name": "stdout",
          "text": [
            "24,18,12,6,0,-6\n"
          ]
        }
      ]
    },
    {
      "cell_type": "markdown",
      "source": [
        "(B) -10, -5, 0, 5, 10, 15, 20"
      ],
      "metadata": {
        "id": "atWTsc0YTlrR"
      }
    },
    {
      "cell_type": "code",
      "source": [
        "#task01\n",
        "\n",
        "count = -10\n",
        "\n",
        "while count <= 20:\n",
        "  if count != 20:\n",
        "    print(count, end = ',')\n",
        "  else:\n",
        "    print(count)\n",
        "  count = count+5"
      ],
      "metadata": {
        "colab": {
          "base_uri": "https://localhost:8080/"
        },
        "id": "v1VRS79eSuiO",
        "outputId": "507af2cf-781e-4b1a-fa38-f8c091f4466d"
      },
      "execution_count": null,
      "outputs": [
        {
          "output_type": "stream",
          "name": "stdout",
          "text": [
            "-10,-5,0,5,10,15,20\n"
          ]
        }
      ]
    },
    {
      "cell_type": "markdown",
      "source": [
        "(C) 18, 27, 36, 45, 54, 63"
      ],
      "metadata": {
        "id": "ln9yd0k8Q9iG"
      }
    },
    {
      "cell_type": "code",
      "execution_count": null,
      "metadata": {
        "colab": {
          "base_uri": "https://localhost:8080/"
        },
        "id": "t4OsBmt4PyF2",
        "outputId": "f2f9f1c0-9327-47b9-bfe2-2f20fc8ab431"
      },
      "outputs": [
        {
          "output_type": "stream",
          "name": "stdout",
          "text": [
            "18,27,36,45,54,63\n"
          ]
        }
      ],
      "source": [
        "#task01\n",
        "\n",
        "count = 18\n",
        "\n",
        "while count <= 63:\n",
        "  if count != 63:\n",
        "   print(count, end = ',')\n",
        "  else:\n",
        "    print(count)\n",
        "  count = count+9"
      ]
    },
    {
      "cell_type": "markdown",
      "source": [
        "(D) 18, -27, 36, -45, 54, -63"
      ],
      "metadata": {
        "id": "tqbh40ufcjoi"
      }
    },
    {
      "cell_type": "code",
      "source": [
        "#task01\n",
        "\n",
        "\n",
        "count = 18\n",
        "while count <= 63:\n",
        "  if count%2 ==0:\n",
        "   print(count, end=',')\n",
        "  else:\n",
        "   if count != 63:\n",
        "    print(count* (-1), end=',')\n",
        "   else:\n",
        "    print(count* (-1))\n",
        "  count = count+9"
      ],
      "metadata": {
        "colab": {
          "base_uri": "https://localhost:8080/"
        },
        "id": "dC7kqFgZfkCI",
        "outputId": "c848b3ec-3339-4177-9c67-2d01591e2e09"
      },
      "execution_count": null,
      "outputs": [
        {
          "output_type": "stream",
          "name": "stdout",
          "text": [
            "18,-27,36,-45,54,-63\n"
          ]
        }
      ]
    },
    {
      "cell_type": "code",
      "source": [
        "#task02\n",
        "\n",
        "name = str(input('Sir, please enter your name: '))\n",
        "limit = int(input('Sir, please enter your limit: '))\n",
        "\n",
        "for count in range(1,limit+1):\n",
        "  print(name)"
      ],
      "metadata": {
        "colab": {
          "base_uri": "https://localhost:8080/"
        },
        "id": "LckIeN3tiVv6",
        "outputId": "ac7c0035-f9f5-4314-ef45-0c0d52b49b31"
      },
      "execution_count": null,
      "outputs": [
        {
          "output_type": "stream",
          "name": "stdout",
          "text": [
            "Sir, please enter your name: Toyota\n",
            "Sir, please enter your limit: 2\n",
            "1 Toyota\n",
            "2 Toyota\n"
          ]
        }
      ]
    },
    {
      "cell_type": "code",
      "source": [
        "#task03\n",
        "\n",
        "total = 0\n",
        "\n",
        "for count in range(1,601,1):\n",
        "  if count %7 == 0 and count %9 ==0:\n",
        "   total = total+count\n",
        "\n",
        "print(total)\n"
      ],
      "metadata": {
        "colab": {
          "base_uri": "https://localhost:8080/"
        },
        "id": "gWbAIX6kjQnA",
        "outputId": "44e34bd8-331a-4407-b474-db29492bd08f"
      },
      "execution_count": null,
      "outputs": [
        {
          "output_type": "stream",
          "name": "stdout",
          "text": [
            "2835\n"
          ]
        }
      ]
    },
    {
      "cell_type": "code",
      "source": [
        "#task04\n",
        "total = 0\n",
        "\n",
        "for number in range(1,601,1):\n",
        "  if number % 7 == 0 and number % 9 == 0:\n",
        "    pass\n",
        "\n",
        "  elif number % 7 == 0 or number % 9 == 0:\n",
        "       total+=number\n",
        "print(total)\n",
        ""
      ],
      "metadata": {
        "colab": {
          "base_uri": "https://localhost:8080/"
        },
        "id": "IqwXhhZKflnf",
        "outputId": "01a79110-fa8b-4045-a254-a34026244fee"
      },
      "execution_count": null,
      "outputs": [
        {
          "output_type": "stream",
          "name": "stdout",
          "text": [
            "39814\n"
          ]
        }
      ]
    },
    {
      "cell_type": "code",
      "source": [
        "#task05\n",
        "for count in range(11,50,2):\n",
        " print(count,end=' ')"
      ],
      "metadata": {
        "colab": {
          "base_uri": "https://localhost:8080/"
        },
        "id": "t0CAWoVDoOyI",
        "outputId": "6b262e9e-15f4-4f44-dcdb-fd814d82aa2f"
      },
      "execution_count": null,
      "outputs": [
        {
          "output_type": "stream",
          "name": "stdout",
          "text": [
            "11 13 15 17 19 21 23 25 27 29 31 33 35 37 39 41 43 45 47 49 "
          ]
        }
      ]
    },
    {
      "cell_type": "code",
      "source": [
        "#task 06\n",
        "y = 0\n",
        "n= int(input('Enter: '))\n",
        "for count in range(1,n+1,1):\n",
        "  if count %2==0:\n",
        "    y=y-count**2\n",
        "  else:\n",
        "    y=y+count**2\n",
        "print(y)\n"
      ],
      "metadata": {
        "colab": {
          "base_uri": "https://localhost:8080/"
        },
        "id": "3e_JIqzCpVFl",
        "outputId": "68961a0a-62b4-414f-f435-bd7b8c04ea40"
      },
      "execution_count": null,
      "outputs": [
        {
          "output_type": "stream",
          "name": "stdout",
          "text": [
            "Enter: 10\n",
            "-55\n"
          ]
        }
      ]
    },
    {
      "cell_type": "code",
      "source": [
        "#task06\n",
        "n= int(input('Enter: '))\n",
        "count = 1\n",
        "y = 0\n",
        "\n",
        "while count <=n :\n",
        "    if count %2==0:\n",
        "        y=y-count**2\n",
        "    else:\n",
        "        y=y+count**2\n",
        "    count = count+1\n",
        "\n",
        "print(y)"
      ],
      "metadata": {
        "colab": {
          "base_uri": "https://localhost:8080/"
        },
        "id": "SkwqjRlKe40L",
        "outputId": "8ae75959-d6cc-4b6c-bdf7-1f78ea67ebc3"
      },
      "execution_count": null,
      "outputs": [
        {
          "output_type": "stream",
          "name": "stdout",
          "text": [
            "Enter: 20\n",
            "-210\n"
          ]
        }
      ]
    },
    {
      "cell_type": "code",
      "source": [
        "#task07\n",
        "\n",
        "count = 1\n",
        "total = 0\n",
        "counting_machine = 0\n",
        "while count<=10:\n",
        "  number = int(input('Enter: '))\n",
        "  if number%2==1:\n",
        "    total+= number\n",
        "    counting_machine+=1\n",
        "  count+=1\n",
        "\n",
        "average = total/counting_machine\n",
        "\n",
        "print('The total of the odd number is',total,'and their average is',average)"
      ],
      "metadata": {
        "colab": {
          "base_uri": "https://localhost:8080/"
        },
        "id": "BpXT4KFfSnyD",
        "outputId": "d3510b26-6f9c-46e3-ce65-f198f549ff20"
      },
      "execution_count": null,
      "outputs": [
        {
          "output_type": "stream",
          "name": "stdout",
          "text": [
            "Enter: 1\n",
            "Enter: 2\n",
            "Enter: 3\n",
            "Enter: 4\n",
            "Enter: 5\n",
            "Enter: 6\n",
            "Enter: 7\n",
            "Enter: 8\n",
            "Enter: 9\n",
            "Enter: 10\n",
            "The total of the odd number is 25 and their average is 5.0\n"
          ]
        }
      ]
    },
    {
      "cell_type": "code",
      "source": [
        "#task08\n",
        "N = int(input('Enter: '))\n",
        "total = 0\n",
        "\n",
        "for number in range(1,N+1,1):\n",
        "  if number % 7 != 0 :\n",
        "    pass\n",
        "\n",
        "  elif number % 7 == 0 :\n",
        "       total+=number\n",
        "print(total)\n",
        ""
      ],
      "metadata": {
        "colab": {
          "base_uri": "https://localhost:8080/"
        },
        "id": "QhXyiCwKSU5v",
        "outputId": "a20cfe1d-6e90-4e90-dd2c-7244315c42b2"
      },
      "execution_count": null,
      "outputs": [
        {
          "output_type": "stream",
          "name": "stdout",
          "text": [
            "Enter: 50\n",
            "196\n"
          ]
        }
      ]
    },
    {
      "cell_type": "code",
      "source": [
        "#task09\n",
        "\n",
        "count = 1\n",
        "sum = 0\n",
        "\n",
        "while count<=5:\n",
        "    number = int(input('Enter: '))\n",
        "    count = count + 1\n",
        "    sum = sum + number\n",
        "    print(sum)\n",
        ""
      ],
      "metadata": {
        "colab": {
          "base_uri": "https://localhost:8080/"
        },
        "id": "BhKVvQ3eo9AQ",
        "outputId": "019eb207-ff51-450e-b82e-8d31d9b4afa6"
      },
      "execution_count": null,
      "outputs": [
        {
          "output_type": "stream",
          "name": "stdout",
          "text": [
            "Enter: 1\n",
            "1\n",
            "Enter: 2\n",
            "3\n",
            "Enter: 3\n",
            "6\n",
            "Enter: 4\n",
            "10\n",
            "Enter: 5\n",
            "15\n"
          ]
        }
      ]
    },
    {
      "cell_type": "code",
      "source": [
        "#task09\n",
        "\n",
        "count = 1\n",
        "sum = 0\n",
        "\n",
        "while count<=5:\n",
        "    number = int(input('Enter: '))\n",
        "    count = count + 1\n",
        "\n",
        "    sum = sum + number\n",
        "    print(sum)\n",
        ""
      ],
      "metadata": {
        "colab": {
          "base_uri": "https://localhost:8080/"
        },
        "id": "eX9dGNlOryyz",
        "outputId": "75dba8fc-d28b-4a30-ce43-8831e87d56ce"
      },
      "execution_count": null,
      "outputs": [
        {
          "output_type": "stream",
          "name": "stdout",
          "text": [
            "Enter: 5\n",
            "5\n",
            "Enter: 2\n",
            "7\n",
            "Enter: 3\n",
            "10\n",
            "Enter: 6\n",
            "16\n",
            "Enter: 4\n",
            "20\n"
          ]
        }
      ]
    },
    {
      "cell_type": "code",
      "source": [
        "#task10\n",
        "user_given = int(input('enter: '))\n",
        "\n",
        "while user_given!=0:\n",
        "\n",
        "   digit = user_given % 10\n",
        "   print(digit, end = ',   ')\n",
        "   user_given = user_given // 10\n",
        ""
      ],
      "metadata": {
        "colab": {
          "base_uri": "https://localhost:8080/"
        },
        "id": "DaHVQEXusfjj",
        "outputId": "5f073d1f-36a0-4b4a-d2ab-27ce9c870390"
      },
      "execution_count": null,
      "outputs": [
        {
          "output_type": "stream",
          "name": "stdout",
          "text": [
            "enter: 32767\n",
            "7,   6,   7,   2,   3,   "
          ]
        }
      ]
    },
    {
      "cell_type": "code",
      "source": [
        "#task10\n",
        "n=int(input('enter the number '))\n",
        "remainder=0\n",
        "digit=0\n",
        "number=n\n",
        "while number>0:\n",
        "  number=number//10\n",
        "  digit+=1\n",
        "for i in range(0,digit):\n",
        "  if n>0 and n<10:\n",
        "    print(n,end='')\n",
        "  elif n>=10:\n",
        "     remainder=n%10\n",
        "     print(remainder,end=',')\n",
        "     n=n//10"
      ],
      "metadata": {
        "colab": {
          "base_uri": "https://localhost:8080/"
        },
        "id": "dbenC-vWf9aE",
        "outputId": "9026c9a7-6942-4272-bb5b-8fd330ce3689"
      },
      "execution_count": null,
      "outputs": [
        {
          "output_type": "stream",
          "name": "stdout",
          "text": [
            "enter the number 32768\n",
            "8,6,7,2,3"
          ]
        }
      ]
    },
    {
      "cell_type": "code",
      "source": [
        "#task11\n",
        "num=int(input('enter: '))\n",
        "count = 0\n",
        "\n",
        "while num != 0:\n",
        "    num //= 10\n",
        "    count += 1\n",
        "\n",
        "print(count)"
      ],
      "metadata": {
        "colab": {
          "base_uri": "https://localhost:8080/"
        },
        "id": "48E3NK21TcAF",
        "outputId": "8e3548f9-2ffa-4955-9863-74c83f3c0872"
      },
      "execution_count": null,
      "outputs": [
        {
          "output_type": "stream",
          "name": "stdout",
          "text": [
            "enter: 9876\n",
            "4\n"
          ]
        }
      ]
    },
    {
      "cell_type": "code",
      "source": [
        "#task12\n",
        "\n",
        "number = int(input('enter: '))\n",
        "backup = number\n",
        "digit = 0\n",
        "\n",
        "while number>0:\n",
        "    number = number//10\n",
        "    digit = digit+1\n",
        "\n",
        "#s=''\n",
        "while backup>0:\n",
        "    result = backup//10**(digit-1)\n",
        "    #s+=str(result)+', '\n",
        "    print(result, end=' ')\n",
        "    backup = backup%10**(digit-1)\n",
        "    digit = digit-1\n",
        "#print(s[:-2])"
      ],
      "metadata": {
        "id": "S0Rw8dtXKi52",
        "colab": {
          "base_uri": "https://localhost:8080/"
        },
        "outputId": "63506952-d7f8-45da-ad9a-ccfa149840de"
      },
      "execution_count": null,
      "outputs": [
        {
          "output_type": "stream",
          "name": "stdout",
          "text": [
            "enter: 32768\n",
            "3 2 7 6 8 "
          ]
        }
      ]
    },
    {
      "cell_type": "code",
      "source": [
        "#task13\n",
        "\n",
        "n=int(input('Enter the value of n: '))\n",
        "div = 0\n",
        "for count in range(1,n+1):\n",
        "  if(n%count==0):\n",
        "      print(count, end=',')\n",
        "      div+=1\n",
        "print()\n",
        "print('Total',div,'divisors')"
      ],
      "metadata": {
        "colab": {
          "base_uri": "https://localhost:8080/"
        },
        "id": "--wELfjlZK_f",
        "outputId": "4f83b01c-ae98-4f34-afd1-a4af6f201d47"
      },
      "execution_count": null,
      "outputs": [
        {
          "output_type": "stream",
          "name": "stdout",
          "text": [
            "Enter the value of n: 121\n",
            "1,11,121,\n",
            "Total 3 divisors\n"
          ]
        }
      ]
    },
    {
      "cell_type": "code",
      "source": [
        "#task12\n",
        "num = int(input(\"Enter a number with multiple digit: \"))\n",
        "n=0\n",
        "while num>0:\n",
        "    a = num%10\n",
        "    num = num - a\n",
        "    num = num/10\n",
        "    print(int(a),end=\",\")\n",
        "    n = n + 1\n"
      ],
      "metadata": {
        "colab": {
          "base_uri": "https://localhost:8080/"
        },
        "id": "0WFhyasL66wh",
        "outputId": "fdd3898b-ea9a-45c1-a87f-5cd1cb6a0fdf"
      },
      "execution_count": null,
      "outputs": [
        {
          "output_type": "stream",
          "name": "stdout",
          "text": [
            "Enter a number with multiple digit: 32768\n",
            "8,6,7,2,3,"
          ]
        }
      ]
    },
    {
      "cell_type": "code",
      "source": [
        "#task14\n",
        "\n",
        "number =int(input('enter: '))\n",
        "sum=0\n",
        "divisor = 1\n",
        "\n",
        "while divisor<number:\n",
        "    if number%divisor == 0:\n",
        "      sum = sum + divisor\n",
        "    divisor = divisor + 1\n",
        "if sum == number:\n",
        "    print(number, 'is Perfect number.')\n",
        "else:\n",
        "    print('Not a Perfect number.')\n"
      ],
      "metadata": {
        "colab": {
          "base_uri": "https://localhost:8080/"
        },
        "id": "Ao0tzEaHAXE4",
        "outputId": "aa8e7307-8c55-433d-ea15-2a3e1bb65abd"
      },
      "execution_count": null,
      "outputs": [
        {
          "output_type": "stream",
          "name": "stdout",
          "text": [
            "enter: 5\n",
            "Not a Perfect number.\n"
          ]
        }
      ]
    },
    {
      "cell_type": "code",
      "source": [
        "num=int(input())\n",
        "\n",
        "sum=0\n",
        "\n",
        "for i in range(1,num):\n",
        "    if num%i==0:\n",
        "        sum+=i\n",
        "if sum==num:\n",
        "    print('perfect')\n",
        "else:\n",
        "    print('m')"
      ],
      "metadata": {
        "colab": {
          "base_uri": "https://localhost:8080/"
        },
        "id": "yqsy8CHqUo8y",
        "outputId": "9e52e615-4332-4ce4-c53a-cadeeaa581d7"
      },
      "execution_count": null,
      "outputs": [
        {
          "output_type": "stream",
          "name": "stdout",
          "text": [
            "5\n",
            "m\n"
          ]
        }
      ]
    },
    {
      "cell_type": "code",
      "source": [
        "num=int(input())\n",
        "\n",
        "\n",
        "\n",
        "for i in range(2,num):\n",
        "    if num%i!=0:\n",
        "       print('prime')\n",
        "       break\n",
        "    else:\n",
        "\n",
        "        print('n')\n",
        "        break"
      ],
      "metadata": {
        "colab": {
          "base_uri": "https://localhost:8080/"
        },
        "id": "9BHmexlTVblD",
        "outputId": "b0f3af78-a89c-4a34-dcdb-10b3591b37e1"
      },
      "execution_count": null,
      "outputs": [
        {
          "output_type": "stream",
          "name": "stdout",
          "text": [
            "11\n",
            "prime\n"
          ]
        }
      ]
    },
    {
      "cell_type": "code",
      "source": [
        "#task15\n",
        "\n",
        "num = int(input(\"Enter a number: \"))\n",
        "\n",
        "if num > 1:\n",
        "   for count in range(2,num):\n",
        "       if (num % count) == 0:\n",
        "           print(num,\"is not a prime number\")\n",
        "\n",
        "   else:\n",
        "       print(num,\"is a prime number\")\n",
        "\n"
      ],
      "metadata": {
        "colab": {
          "base_uri": "https://localhost:8080/"
        },
        "id": "rW9mcXbUO8iW",
        "outputId": "b932456a-7390-46f9-ac8c-d5ba8e7cb872"
      },
      "execution_count": null,
      "outputs": [
        {
          "output_type": "stream",
          "name": "stdout",
          "text": [
            "Enter a number: 11\n",
            "11 is a prime number\n"
          ]
        }
      ]
    },
    {
      "cell_type": "code",
      "source": [
        "#task16\n",
        "\n",
        "n=int(input(\"how many numbers: \"))\n",
        "\n",
        "max=-10000\n",
        "min=10000\n",
        "total=0\n",
        "for i in range(1,n+1):\n",
        "  j=int(input(\"\"))\n",
        "  total+=j\n",
        "  if max< j:\n",
        "    max=j\n",
        "  if min> j:\n",
        "    min=j\n",
        "ave=total/ n\n",
        "\n",
        "\n",
        "print('max',max)\n",
        "print('min',min)\n",
        "print('ave',ave)\n"
      ],
      "metadata": {
        "colab": {
          "base_uri": "https://localhost:8080/"
        },
        "id": "CyNrVHQy8p5G",
        "outputId": "3ff2653a-2942-4956-de93-38a9275e6776"
      },
      "execution_count": null,
      "outputs": [
        {
          "output_type": "stream",
          "name": "stdout",
          "text": [
            "how many numbers: 5\n",
            "10\n",
            "4\n",
            "-1\n",
            "-100\n",
            "1\n",
            "ave -17.2\n",
            "min -100\n",
            "max 10\n"
          ]
        }
      ]
    },
    {
      "cell_type": "code",
      "source": [
        "#task17\n",
        "n = int(input('enter:'))\n",
        "\n",
        "for r in range(1,n+1):\n",
        "  for c in range(1,n+1):\n",
        "    print('+',end = '')\n",
        "  print()"
      ],
      "metadata": {
        "colab": {
          "base_uri": "https://localhost:8080/"
        },
        "id": "OmVxjBfLYOTk",
        "outputId": "b4505717-3acc-4428-cbba-271d2318b8df"
      },
      "execution_count": null,
      "outputs": [
        {
          "output_type": "stream",
          "name": "stdout",
          "text": [
            "enter:5\n",
            "+++++\n",
            "+++++\n",
            "+++++\n",
            "+++++\n",
            "+++++\n"
          ]
        }
      ]
    },
    {
      "cell_type": "code",
      "source": [
        "#task18\n",
        "\n",
        "n1 = int(input('enter:'))\n",
        "n2 = int(input('enter:'))\n",
        "\n",
        "for r in range(1,n1+1):\n",
        "  for c in range(1,n2+1):\n",
        "    print(c,end = '')\n",
        "  print()"
      ],
      "metadata": {
        "colab": {
          "base_uri": "https://localhost:8080/"
        },
        "id": "2kBNiM3KZ61T",
        "outputId": "1d032f66-7981-4732-8883-4515bbdbbd0f"
      },
      "execution_count": null,
      "outputs": [
        {
          "output_type": "stream",
          "name": "stdout",
          "text": [
            "enter:4\n",
            "enter:6\n",
            "123456\n",
            "123456\n",
            "123456\n",
            "123456\n"
          ]
        }
      ]
    },
    {
      "cell_type": "code",
      "source": [
        "#task19\n",
        "\n",
        "n = int(input('enter:'))\n",
        "\n",
        "for r in range(1,n+1):\n",
        "  for c in range(1,r+1):\n",
        "    print(c,end = '')\n",
        "  print()"
      ],
      "metadata": {
        "colab": {
          "base_uri": "https://localhost:8080/"
        },
        "id": "jwcYTZwJahoi",
        "outputId": "d1bd570e-ceb1-489c-f471-55e2b7fe1fd1"
      },
      "execution_count": null,
      "outputs": [
        {
          "output_type": "stream",
          "name": "stdout",
          "text": [
            "enter:4\n",
            "1\n",
            "12\n",
            "123\n",
            "1234\n"
          ]
        }
      ]
    },
    {
      "cell_type": "code",
      "source": [
        "n=input('enter: ')\n",
        "l=len(n)\n",
        "n=int(n)\n",
        "digit=10**(l-1)\n",
        "s=''\n",
        "\n",
        "while n>0:\n",
        "  s+=str(n//digit)+\", \"\n",
        "  n=n%digit\n",
        "  digit= digit //10\n",
        "print(s[:-2])"
      ],
      "metadata": {
        "colab": {
          "base_uri": "https://localhost:8080/"
        },
        "id": "WDkKM9bE0I16",
        "outputId": "e311d5f9-efeb-4643-9863-04e8bb13a650"
      },
      "execution_count": null,
      "outputs": [
        {
          "output_type": "stream",
          "name": "stdout",
          "text": [
            "enter: 1664546\n",
            "1, 6, 6, 4, 5, 4, 6\n"
          ]
        }
      ]
    },
    {
      "cell_type": "code",
      "source": [
        "number = int(input('Enter: '))\n",
        "\n"
      ],
      "metadata": {
        "id": "QRALc0l6ghJl"
      },
      "execution_count": null,
      "outputs": []
    },
    {
      "cell_type": "code",
      "source": [
        "s='ayesha'\n",
        "#print(s[1])\n",
        "for i in s:\n",
        "  print(i)"
      ],
      "metadata": {
        "colab": {
          "base_uri": "https://localhost:8080/"
        },
        "id": "fb8Pl43E2Bnx",
        "outputId": "9d3f660d-2be8-4ed7-aef0-380118f27007"
      },
      "execution_count": null,
      "outputs": [
        {
          "output_type": "stream",
          "name": "stdout",
          "text": [
            "a\n",
            "y\n",
            "e\n",
            "s\n",
            "h\n",
            "a\n"
          ]
        }
      ]
    },
    {
      "cell_type": "code",
      "source": [
        "#task20\n",
        "\n",
        "x = 0\n",
        "p =0\n",
        "sum = 0\n",
        "p = 1\n",
        "x = 2\n",
        "q = None\n",
        "sum = 0\n",
        "while p < 12:\n",
        "    q = x + p - (sum + 7 / 3) / 3.0 % 2\n",
        "    sum = sum + x + int(q)\n",
        "    x += 1\n",
        "    print(sum)\n",
        "    if x > 5:\n",
        "        p += 4 / 2\n",
        "    else:\n",
        "        p += (3 % 1)\n",
        "sum = int(sum + p)\n",
        "print(sum)\n",
        "\n"
      ],
      "metadata": {
        "colab": {
          "base_uri": "https://localhost:8080/"
        },
        "id": "KxgFpNIHh_-F",
        "outputId": "23000d0b-b16e-4b87-e655-f2d0ea7be010"
      },
      "execution_count": null,
      "outputs": [
        {
          "output_type": "stream",
          "name": "stdout",
          "text": [
            "4\n",
            "10\n",
            "18\n",
            "28\n",
            "42\n",
            "60\n",
            "82\n",
            "108\n",
            "138\n",
            "151\n"
          ]
        }
      ]
    },
    {
      "cell_type": "code",
      "source": [
        "#task21\n",
        "\n",
        "x = 0\n",
        "p = 0\n",
        "sum = 0\n",
        "p = 1\n",
        "x = 2\n",
        "q = 0.0\n",
        "sum = 0\n",
        "while (p < 10) :\n",
        "  q = x + p - (sum + int(5 / 3)) / 3.0 % 2\n",
        "  sum = sum + x + int(q)\n",
        "  x += 1\n",
        "  print(sum)\n",
        "  if (x > 5) :\n",
        "    p += int(4 / 2)\n",
        "  else :\n",
        "    p += 3 % 1\n",
        "sum = sum + p\n",
        "print(sum)\n",
        "\n"
      ],
      "metadata": {
        "colab": {
          "base_uri": "https://localhost:8080/"
        },
        "id": "9F5hlY_LiZSJ",
        "outputId": "b864744f-94fd-42e9-8d35-7b68f661485d"
      },
      "execution_count": null,
      "outputs": [
        {
          "output_type": "stream",
          "name": "stdout",
          "text": [
            "4\n",
            "9\n",
            "16\n",
            "25\n",
            "39\n",
            "56\n",
            "78\n",
            "104\n",
            "115\n"
          ]
        }
      ]
    },
    {
      "cell_type": "code",
      "source": [
        "x = y = 0\n",
        "sum = 0\n",
        "while (x < 10):\n",
        "  y = x - 3\n",
        "  while (y < 3):\n",
        "    sum = x - y * 2\n",
        "    print(sum)\n",
        "    y = y + 1\n",
        "  if (x > 7):\n",
        "    x += 1\n",
        "  else:\n",
        "    x += 3\n",
        "sum = x - y * 2\n",
        "print(sum)\n",
        "\n"
      ],
      "metadata": {
        "colab": {
          "base_uri": "https://localhost:8080/"
        },
        "id": "ytfBs61Tqj5A",
        "outputId": "2373def4-1f5b-4cdb-c684-6a8b53bf5bb0"
      },
      "execution_count": null,
      "outputs": [
        {
          "output_type": "stream",
          "name": "stdout",
          "text": [
            "6\n",
            "4\n",
            "2\n",
            "0\n",
            "-2\n",
            "-4\n",
            "3\n",
            "1\n",
            "-1\n",
            "-2\n"
          ]
        }
      ]
    },
    {
      "cell_type": "code",
      "source": [
        "x = y = 0\n",
        "sum = 0\n",
        "while (x < 10):\n",
        "  y = x - 3\n",
        "  while (y < 3):\n",
        "    sum = x - y * 2\n",
        "    print(sum)\n",
        "    y = y + 1\n",
        "  if (x > 7):\n",
        "    x += 1\n",
        "  else:\n",
        "    x += 3\n",
        "sum = x - y * 2\n",
        "print(sum)\n",
        "\n"
      ],
      "metadata": {
        "colab": {
          "base_uri": "https://localhost:8080/"
        },
        "id": "0j-azTPQqwOz",
        "outputId": "f767cd57-6042-4101-9b23-6cdff3d845ab"
      },
      "execution_count": null,
      "outputs": [
        {
          "output_type": "stream",
          "name": "stdout",
          "text": [
            "6\n",
            "4\n",
            "2\n",
            "0\n",
            "-2\n",
            "-4\n",
            "3\n",
            "1\n",
            "-1\n",
            "-2\n"
          ]
        }
      ]
    },
    {
      "cell_type": "code",
      "source": [
        "2//2"
      ],
      "metadata": {
        "colab": {
          "base_uri": "https://localhost:8080/"
        },
        "id": "Zu9ZKQUPjWkl",
        "outputId": "45c37bce-1951-4f09-991b-d4f72a1412ef"
      },
      "execution_count": null,
      "outputs": [
        {
          "output_type": "execute_result",
          "data": {
            "text/plain": [
              "1"
            ]
          },
          "metadata": {},
          "execution_count": 23
        }
      ]
    },
    {
      "cell_type": "code",
      "source": [
        "#23\n",
        "\n",
        "x = 0\n",
        "y = 0\n",
        "sum = 0\n",
        "p = 0.0\n",
        "while (x < 10):\n",
        "  y = x // 2\n",
        "  while (y < x):\n",
        "    p = (x + 10.0) / 2\n",
        "    sum = (sum % 2) + x - y * 2 + int(p)\n",
        "    print(sum)\n",
        "    y = y + 2\n",
        "  if (x > 5):\n",
        "    x += 1\n",
        "  else:\n",
        "    x += 2\n",
        "\n"
      ],
      "metadata": {
        "colab": {
          "base_uri": "https://localhost:8080/"
        },
        "id": "caSQl49Aq0Ct",
        "outputId": "71713b18-2cab-439d-9519-62396838634e"
      },
      "execution_count": null,
      "outputs": [
        {
          "output_type": "stream",
          "name": "stdout",
          "text": [
            "6\n",
            "7\n",
            "9\n",
            "5\n",
            "10\n",
            "5\n",
            "10\n",
            "5\n",
            "11\n",
            "7\n",
            "3\n"
          ]
        }
      ]
    },
    {
      "cell_type": "code",
      "source": [
        "x = 0\n",
        "y = 0\n",
        "sum = 0\n",
        "p = 0.0\n",
        "c=0\n",
        "while (x < 10):\n",
        "  y = x // 2\n",
        "  while (y < x):\n",
        "    p = (x + 10.0) / 2\n",
        "    sum = (sum % 2) + x - y * 2 + int(p)\n",
        "    print(sum)\n",
        "    y = y + 2\n",
        "  if (x > 5):\n",
        "    x += 1\n",
        "  else:\n",
        "    x += 2\n",
        ""
      ],
      "metadata": {
        "colab": {
          "base_uri": "https://localhost:8080/"
        },
        "id": "Q0UDMnUdtNMK",
        "outputId": "2a0b1811-76d0-4768-8b95-7f81b8fb89a6"
      },
      "execution_count": null,
      "outputs": [
        {
          "output_type": "stream",
          "name": "stdout",
          "text": [
            "6\n",
            "7\n",
            "9\n",
            "5\n",
            "10\n",
            "5\n",
            "10\n",
            "5\n",
            "11\n",
            "7\n",
            "3\n"
          ]
        }
      ]
    },
    {
      "cell_type": "code",
      "source": [
        "#24\n",
        "\n",
        "test = 1\n",
        "j = 0\n",
        "k = 100\n",
        "while (k > 0):\n",
        "  while ( j < k ):\n",
        "    test = k + j -21\n",
        "    print(str(1 + int (test / 2)))\n",
        "    j += 10\n",
        "  k -= 10\n",
        "test = 1\n",
        "j = 0\n",
        "k = 100\n",
        "\n"
      ],
      "metadata": {
        "colab": {
          "base_uri": "https://localhost:8080/"
        },
        "id": "4zyTFX5Qq5Xz",
        "outputId": "a7414eaa-2e77-4622-a694-d0fe0213b0e0"
      },
      "execution_count": null,
      "outputs": [
        {
          "output_type": "stream",
          "name": "stdout",
          "text": [
            "40\n",
            "45\n",
            "50\n",
            "55\n",
            "60\n",
            "65\n",
            "70\n",
            "75\n",
            "80\n",
            "85\n"
          ]
        }
      ]
    }
  ]
}