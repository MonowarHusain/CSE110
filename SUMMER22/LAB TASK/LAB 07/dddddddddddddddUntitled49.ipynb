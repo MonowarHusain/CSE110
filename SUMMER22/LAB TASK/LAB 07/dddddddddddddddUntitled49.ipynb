{
  "nbformat": 4,
  "nbformat_minor": 0,
  "metadata": {
    "colab": {
      "provenance": [],
      "include_colab_link": true
    },
    "kernelspec": {
      "name": "python3",
      "display_name": "Python 3"
    },
    "language_info": {
      "name": "python"
    }
  },
  "cells": [
    {
      "cell_type": "markdown",
      "metadata": {
        "id": "view-in-github",
        "colab_type": "text"
      },
      "source": [
        "<a href=\"https://colab.research.google.com/github/MonowarHusain/CSE110_PROGRAMMING-LANGUAGE-I/blob/main/SUMMER22/LAB%20TASK/LAB%2007/dddddddddddddddUntitled49.ipynb\" target=\"_parent\"><img src=\"https://colab.research.google.com/assets/colab-badge.svg\" alt=\"Open In Colab\"/></a>"
      ]
    },
    {
      "cell_type": "code",
      "execution_count": null,
      "metadata": {
        "colab": {
          "base_uri": "https://localhost:8080/"
        },
        "id": "h3nfoPE516Wd",
        "outputId": "98fa08ba-1a2b-41a1-a6cc-d39250b8bdf5"
      },
      "outputs": [
        {
          "output_type": "stream",
          "name": "stdout",
          "text": [
            "10 5 0 5 10 \n",
            "  5 0 5 \n"
          ]
        }
      ],
      "source": [
        "#task01\n",
        "def bubble_sort(my_list):\n",
        "    for imn in range(0,len(my_list)-1):\n",
        "        for jkl in range(0,len(my_list)-imn-1):\n",
        "            if my_list[jkl]>my_list[jkl+1]:\n",
        "                temp = my_list[jkl]\n",
        "                my_list[jkl]=my_list[jkl+1]\n",
        "                my_list[jkl+1]=temp\n",
        "    return my_list\n",
        "\n",
        "x=bubble_sort([10, 1, 20, 3, 6, 2, 5, 11, 15, 2, 12, 14, 17, 18, 29])\n",
        "print(x)"
      ]
    },
    {
      "cell_type": "code",
      "source": [
        "\n",
        "#task07\n",
        "list_one = [1, 7, 9, 10]\n",
        "list_two = [2, 7, 6, 5]\n",
        "my_list=[]\n",
        "sum=0\n",
        "\n",
        "for i in list_one:\n",
        "    my_list.append(i)\n",
        "for i in list_two:\n",
        "    my_list.append(i)\n",
        "print(my_list)\n",
        "\n",
        "\n",
        "for imn in range(0,len(my_list)-1):\n",
        "    for jkl in range(0,len(my_list)-imn-1):\n",
        "        if my_list[jkl]>my_list[jkl+1]:\n",
        "            temp = my_list[jkl]\n",
        "            my_list[jkl]=my_list[jkl+1]\n",
        "            my_list[jkl+1]=temp\n",
        "print(my_list)\n",
        "n=len(my_list)\n",
        "if n%2!=0:\n",
        "    mid=my_list[(n//2)]\n",
        "else:\n",
        "    mid=(my_list[(n//2)-1]+my_list[(n//2)])/2\n",
        "\n",
        "print(mid)\n"
      ],
      "metadata": {
        "id": "h-hEJnOsUCtQ"
      },
      "execution_count": null,
      "outputs": []
    }
  ]
}