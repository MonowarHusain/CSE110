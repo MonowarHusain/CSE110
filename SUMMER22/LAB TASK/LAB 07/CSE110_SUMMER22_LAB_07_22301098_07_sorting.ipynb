{
  "nbformat": 4,
  "nbformat_minor": 0,
  "metadata": {
    "colab": {
      "provenance": [],
      "authorship_tag": "ABX9TyOJ6mv+KQ3f97E2jN3VfyyE",
      "include_colab_link": true
    },
    "kernelspec": {
      "name": "python3",
      "display_name": "Python 3"
    },
    "language_info": {
      "name": "python"
    }
  },
  "cells": [
    {
      "cell_type": "markdown",
      "metadata": {
        "id": "view-in-github",
        "colab_type": "text"
      },
      "source": [
        "<a href=\"https://colab.research.google.com/github/MonowarHusain/CSE110_PROGRAMMING-LANGUAGE-I/blob/main/SUMMER22/LAB%20TASK/LAB%2007/CSE110_SUMMER22_LAB_07_22301098_07_sorting.ipynb\" target=\"_parent\"><img src=\"https://colab.research.google.com/assets/colab-badge.svg\" alt=\"Open In Colab\"/></a>"
      ]
    },
    {
      "cell_type": "code",
      "execution_count": null,
      "metadata": {
        "colab": {
          "base_uri": "https://localhost:8080/"
        },
        "id": "G-pUkbcbFEFD",
        "outputId": "b0c7f8ca-0011-4c18-c3a6-18650388a122"
      },
      "outputs": [
        {
          "output_type": "stream",
          "name": "stdout",
          "text": [
            "[1, 2, 2, 3, 5, 6, 10, 11, 12, 14, 15, 17, 18, 20, 29]\n"
          ]
        }
      ],
      "source": [
        "#task01\n",
        "def bubble_sort(my_list):\n",
        "    for imn in range(0,len(my_list)-1):\n",
        "        for jkl in range(0,len(my_list)-imn-1):\n",
        "            if my_list[jkl]>my_list[jkl+1]:\n",
        "                temp = my_list[jkl]\n",
        "                my_list[jkl]=my_list[jkl+1]\n",
        "                my_list[jkl+1]=temp\n",
        "    return my_list\n",
        "\n",
        "x=bubble_sort([10, 1, 20, 3, 6, 2, 5, 11, 15, 2, 12, 14, 17, 18, 29])\n",
        "print(x)"
      ]
    },
    {
      "cell_type": "code",
      "source": [
        "#task02_SELECTION_SORTING\n",
        "lst = [10, 1, 20, 3, 6, 2, 5, 11, 15, 2, 12, 14, 17, 18, 29]\n",
        "for i in range(0,len(lst)):\n",
        "    min = lst[i]\n",
        "    min_loc=i\n",
        "    for j in range(i+1,len(lst)):\n",
        "        if min>lst[j]:\n",
        "            min=lst[j]\n",
        "            min_loc=j\n",
        "    temp=min\n",
        "    lst[min_loc]=lst[i]\n",
        "    lst[i]=temp\n",
        "print(lst)"
      ],
      "metadata": {
        "colab": {
          "base_uri": "https://localhost:8080/"
        },
        "id": "fB_ptiDP8top",
        "outputId": "9bb3b6ce-eb02-4aa7-ced0-b5768cc855eb"
      },
      "execution_count": null,
      "outputs": [
        {
          "output_type": "stream",
          "name": "stdout",
          "text": [
            "[1, 2, 2, 3, 5, 6, 10, 11, 12, 14, 15, 17, 18, 20, 29]\n"
          ]
        }
      ]
    },
    {
      "cell_type": "code",
      "source": [
        "#task03\n",
        "my_list = [10, 1, 20, 3, 6, 2, 5, 11, 15, 2, 12, 14, 17, 18, 29]\n",
        "for imn in range(0,len(my_list)-1):\n",
        "    for jkl in range(0,len(my_list)-imn-1):\n",
        "        if my_list[jkl]<my_list[jkl+1]:\n",
        "            temp = my_list[jkl]\n",
        "            my_list[jkl]=my_list[jkl+1]\n",
        "            my_list[jkl+1]=temp\n",
        "print(my_list)"
      ],
      "metadata": {
        "colab": {
          "base_uri": "https://localhost:8080/"
        },
        "id": "AqDaXqwgGywz",
        "outputId": "59dab3ff-d165-4372-c608-26bc1ca37993"
      },
      "execution_count": null,
      "outputs": [
        {
          "output_type": "stream",
          "name": "stdout",
          "text": [
            "[29, 20, 18, 17, 15, 14, 12, 11, 10, 6, 5, 3, 2, 2, 1]\n"
          ]
        }
      ]
    },
    {
      "cell_type": "code",
      "source": [
        "#task04\n",
        "my_list = [10,30,20,70,11,15,22,16,58,100,12,56,70,80]\n",
        "ev=[]\n",
        "od=[]\n",
        "out=[]\n",
        "for i in range(len(my_list)):\n",
        "    if i%2==0:\n",
        "        ev.append(my_list[i])\n",
        "    else:\n",
        "        od.append(my_list[i])\n",
        "print(ev)\n",
        "print(od)\n",
        "\n",
        "for i in range(len(ev)-1):\n",
        "    for j in range(len(ev)-i-1):\n",
        "        if ev[j]>ev[j+1]:\n",
        "            temp=ev[j]\n",
        "            ev[j]=ev[j+1]\n",
        "            ev[j+1]=temp\n",
        "print('sort',ev)\n",
        "\n",
        "for i in range(len(od)-1):\n",
        "    for j in range(len(od)-i-1):\n",
        "        if od[j]<od[j+1]:\n",
        "            temp=od[j]\n",
        "            od[j]=od[j+1]\n",
        "            od[j+1]=temp\n",
        "print('sort',od)\n",
        "\n",
        "\n",
        "\n",
        "for i in range(len(od)):\n",
        "    out.append(ev[i])\n",
        "    out.append(od[i])\n",
        "print(out)\n"
      ],
      "metadata": {
        "colab": {
          "base_uri": "https://localhost:8080/"
        },
        "id": "o8vw5h-S9Kpo",
        "outputId": "9518d0d4-1108-47fd-c270-8a4324d2f003"
      },
      "execution_count": null,
      "outputs": [
        {
          "output_type": "stream",
          "name": "stdout",
          "text": [
            "[10, 20, 11, 22, 58, 12, 70]\n",
            "[30, 70, 15, 16, 100, 56, 80]\n",
            "sort [10, 11, 12, 20, 22, 58, 70]\n",
            "sort [100, 80, 70, 56, 30, 16, 15]\n",
            "[10, 100, 11, 80, 12, 70, 20, 56, 22, 30, 58, 16, 70, 15]\n"
          ]
        }
      ]
    },
    {
      "cell_type": "code",
      "source": [
        "lst=lst = [ [\"Alan\", 95, 87, 91], [\"Turing\", 92, 90, 83], [\"Elon\", 87, 92, 80], [\"Musk\", 85, 94, 90] ]\n",
        "\n",
        "course_code=input('Enter your course: ')\n",
        "if course_code == 'CSE110':\n",
        "    index=1\n",
        "elif course_code == 'PHY111':\n",
        "    index=2\n",
        "\n",
        "elif course_code == 'MAT110':\n",
        "    index=3\n",
        "\n",
        "for i in range(0,len(lst)):\n",
        "    max=lst[i][index]\n",
        "    max_loc=i\n",
        "    max_list=lst[i]\n",
        "    for j in range(i+1,len(lst)):\n",
        "        if max<lst[j][index]:\n",
        "            max=lst[j][index]\n",
        "            max_loc=j\n",
        "            max_list=lst[j]\n",
        "        temp = max_list\n",
        "        lst[max_loc]=lst[i]\n",
        "        lst[i]=temp\n",
        "for i in range(0,len(lst)):\n",
        "    print(lst[i][0])"
      ],
      "metadata": {
        "colab": {
          "base_uri": "https://localhost:8080/"
        },
        "id": "YZ64r0haVmOX",
        "outputId": "b316e181-44c6-494e-8967-bacd41c24595"
      },
      "execution_count": null,
      "outputs": [
        {
          "output_type": "stream",
          "name": "stdout",
          "text": [
            "Enter your course: MAT110\n",
            "Alan\n",
            "Musk\n",
            "Turing\n",
            "Elon\n"
          ]
        }
      ]
    },
    {
      "cell_type": "code",
      "source": [
        "#task06\n",
        "my_list = [4, 2, 3, 1, 6, 5]\n",
        "n=[]\n",
        "c=0\n",
        "for i in my_list:\n",
        "    n.append(i)\n",
        "for imn in range(0,len(my_list)-1):\n",
        "    for jkl in range(0,len(my_list)-imn-1):\n",
        "        if my_list[jkl]>my_list[jkl+1]:\n",
        "            temp = my_list[jkl]\n",
        "            my_list[jkl]=my_list[jkl+1]\n",
        "            my_list[jkl+1]=temp\n",
        "print(my_list)\n",
        "\n",
        "for i in range(len(n)):\n",
        "    if my_list[i]!=n[i]:\n",
        "        c+=1\n",
        "print(c)"
      ],
      "metadata": {
        "colab": {
          "base_uri": "https://localhost:8080/"
        },
        "id": "yJ6ksajmJPYV",
        "outputId": "6ff16f1c-fa7d-4b84-d5ad-fb7454bb2e74"
      },
      "execution_count": null,
      "outputs": [
        {
          "output_type": "stream",
          "name": "stdout",
          "text": [
            "[1, 2, 3, 4, 5, 6]\n",
            "4\n"
          ]
        }
      ]
    },
    {
      "cell_type": "code",
      "source": [
        "\n",
        "#task07\n",
        "list_one = [1, 7, 9, 10]\n",
        "list_two = [2, 7, 6, 5]\n",
        "my_list=[]\n",
        "sum=0\n",
        "\n",
        "for i in list_one:\n",
        "    my_list.append(i)\n",
        "for i in list_two:\n",
        "    my_list.append(i)\n",
        "print(my_list)\n",
        "\n",
        "\n",
        "for imn in range(0,len(my_list)-1):\n",
        "    for jkl in range(0,len(my_list)-imn-1):\n",
        "        if my_list[jkl]>my_list[jkl+1]:\n",
        "            temp = my_list[jkl]\n",
        "            my_list[jkl]=my_list[jkl+1]\n",
        "            my_list[jkl+1]=temp\n",
        "print(my_list)\n",
        "n=len(my_list)\n",
        "if n%2!=0:\n",
        "    mid=my_list[(n//2)]\n",
        "else:\n",
        "    mid=(my_list[(n//2)-1]+my_list[(n//2)])/2\n",
        "\n",
        "print(mid)\n"
      ],
      "metadata": {
        "colab": {
          "base_uri": "https://localhost:8080/"
        },
        "id": "UlNqamP9DbyP",
        "outputId": "bcac5c82-f7eb-450a-cebf-eefc751e68f4"
      },
      "execution_count": null,
      "outputs": [
        {
          "output_type": "stream",
          "name": "stdout",
          "text": [
            "[1, 7, 9, 10, 2, 7, 6, 5]\n",
            "[1, 2, 5, 6, 7, 7, 9, 10]\n",
            "6.5\n"
          ]
        }
      ]
    },
    {
      "cell_type": "code",
      "source": [],
      "metadata": {
        "id": "J2_8X0tAtV71"
      },
      "execution_count": null,
      "outputs": []
    },
    {
      "cell_type": "code",
      "source": [
        "points = [(5,3), (2,9), (-2,7), (-3,-4), (0,6), (7,-2)]\n",
        "for imn in points:\n",
        "    i,j=imn\n",
        "    print(i)"
      ],
      "metadata": {
        "colab": {
          "base_uri": "https://localhost:8080/"
        },
        "id": "V-sLqaQwtaoT",
        "outputId": "7f09dee3-5ebb-42de-91b7-2c78b552c047"
      },
      "execution_count": null,
      "outputs": [
        {
          "output_type": "stream",
          "name": "stdout",
          "text": [
            "5\n",
            "2\n",
            "-2\n",
            "-3\n",
            "0\n",
            "7\n"
          ]
        }
      ]
    },
    {
      "cell_type": "code",
      "source": [
        "def my_median(sample):\n",
        "    n = len(sample)\n",
        "    index = n // 2\n",
        "     # Sample with an odd number of observations\n",
        "    if n % 2:\n",
        "        return sorted(sample)[index]\n",
        "         # Sample with an even number of observations\n",
        "    return sum(sorted(sample)[index - 1:index + 1]) / 2\n",
        "\n",
        "\n",
        "my_median([1, 2, 5, 6, 7, 7, 9, 10])"
      ],
      "metadata": {
        "colab": {
          "base_uri": "https://localhost:8080/"
        },
        "id": "yiAyp51gF6ly",
        "outputId": "d3b8f239-0f58-4735-d5b6-1adb0c17715f"
      },
      "execution_count": null,
      "outputs": [
        {
          "output_type": "execute_result",
          "data": {
            "text/plain": [
              "6.5"
            ]
          },
          "metadata": {},
          "execution_count": 51
        }
      ]
    },
    {
      "cell_type": "code",
      "source": [
        "#task08\n",
        "list_one ="
      ],
      "metadata": {
        "id": "E1YcAJ4wJJoh"
      },
      "execution_count": null,
      "outputs": []
    }
  ]
}