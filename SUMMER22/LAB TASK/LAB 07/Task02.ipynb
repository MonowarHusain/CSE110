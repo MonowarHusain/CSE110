{
  "nbformat": 4,
  "nbformat_minor": 0,
  "metadata": {
    "colab": {
      "provenance": [],
      "authorship_tag": "ABX9TyOpH9hj/ZzEdT36opG/TfvZ"
    },
    "kernelspec": {
      "name": "python3",
      "display_name": "Python 3"
    },
    "language_info": {
      "name": "python"
    }
  },
  "cells": [
    {
      "cell_type": "code",
      "source": [
        "#task01\n",
        "def bubble_sort(my_list):\n",
        "    for imn in range(0,len(my_list)-1):\n",
        "        for jkl in range(0,len(my_list)-imn-1):\n",
        "            if my_list[jkl]>my_list[jkl+1]:\n",
        "                temp = my_list[jkl]\n",
        "                my_list[jkl]=my_list[jkl+1]\n",
        "                my_list[jkl+1]=temp\n",
        "    return my_list\n",
        "\n",
        "x=bubble_sort([10, 1, 20, 3, 6, 2, 5, 11, 15, 2, 12, 14, 17, 18, 29])\n",
        "print(x)"
      ],
      "metadata": {
        "colab": {
          "base_uri": "https://localhost:8080/"
        },
        "id": "DWMifKvftlal",
        "outputId": "7cb078bd-f499-4ea0-b936-097b53ef5e21"
      },
      "execution_count": 4,
      "outputs": [
        {
          "output_type": "stream",
          "name": "stdout",
          "text": [
            "[1, 2, 2, 3, 5, 6, 10, 11, 12, 14, 15, 17, 18, 20, 29]\n"
          ]
        }
      ]
    }
  ]
}