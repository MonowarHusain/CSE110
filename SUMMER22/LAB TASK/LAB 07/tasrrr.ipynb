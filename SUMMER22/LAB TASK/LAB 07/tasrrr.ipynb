{
  "nbformat": 4,
  "nbformat_minor": 0,
  "metadata": {
    "colab": {
      "provenance": [],
      "authorship_tag": "ABX9TyPhk/Ay10y9kGaiMKPhtKHy"
    },
    "kernelspec": {
      "name": "python3",
      "display_name": "Python 3"
    },
    "language_info": {
      "name": "python"
    }
  },
  "cells": [
    {
      "cell_type": "code",
      "source": [
        "#task04\n",
        "my_list = [10,30,20,70,11,15,22,16,58,100,12,56,70,80]\n",
        "ev=[]\n",
        "od=[]\n",
        "out=[]\n",
        "for i in range(len(my_list)):\n",
        "    if i%2==0:\n",
        "        ev.append(my_list[i])\n",
        "    else:\n",
        "        od.append(my_list[i])\n",
        "print(ev)\n",
        "print(od)\n",
        "\n",
        "for i in range(len(ev)-1):\n",
        "    for j in range(len(ev)-i-1):\n",
        "        if ev[j]>ev[j+1]:\n",
        "            temp=ev[j]\n",
        "            ev[j]=ev[j+1]\n",
        "            ev[j+1]=temp\n",
        "print('sort',ev)\n",
        "\n",
        "for i in range(len(od)-1):\n",
        "    for j in range(len(od)-i-1):\n",
        "        if od[j]<od[j+1]:\n",
        "            temp=od[j]\n",
        "            od[j]=od[j+1]\n",
        "            od[j+1]=temp\n",
        "print('sort',od)\n",
        "\n",
        "\n",
        "\n",
        "for i in range(len(od)):\n",
        "    out.append(ev[i])\n",
        "    out.append(od[i])\n",
        "print(out)\n"
      ],
      "metadata": {
        "id": "bPv60RFUvrTg",
        "outputId": "0c73b920-df4c-4cc9-c27d-31a7735e2162",
        "colab": {
          "base_uri": "https://localhost:8080/"
        }
      },
      "execution_count": 1,
      "outputs": [
        {
          "output_type": "stream",
          "name": "stdout",
          "text": [
            "[10, 20, 11, 22, 58, 12, 70]\n",
            "[30, 70, 15, 16, 100, 56, 80]\n",
            "sort [10, 11, 12, 20, 22, 58, 70]\n",
            "sort [100, 80, 70, 56, 30, 16, 15]\n",
            "[10, 100, 11, 80, 12, 70, 20, 56, 22, 30, 58, 16, 70, 15]\n"
          ]
        }
      ]
    },
    {
      "cell_type": "code",
      "source": [],
      "metadata": {
        "id": "ogYVO4qDmA6H"
      },
      "execution_count": null,
      "outputs": []
    }
  ]
}