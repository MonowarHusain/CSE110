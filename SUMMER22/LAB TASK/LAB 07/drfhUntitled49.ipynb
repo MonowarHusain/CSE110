{
  "nbformat": 4,
  "nbformat_minor": 0,
  "metadata": {
    "colab": {
      "provenance": [],
      "include_colab_link": true
    },
    "kernelspec": {
      "name": "python3",
      "display_name": "Python 3"
    },
    "language_info": {
      "name": "python"
    }
  },
  "cells": [
    {
      "cell_type": "markdown",
      "metadata": {
        "id": "view-in-github",
        "colab_type": "text"
      },
      "source": [
        "<a href=\"https://colab.research.google.com/github/MonowarHusain/CSE110_PROGRAMMING-LANGUAGE-I/blob/main/SUMMER22/LAB%20TASK/LAB%2007/drfhUntitled49.ipynb\" target=\"_parent\"><img src=\"https://colab.research.google.com/assets/colab-badge.svg\" alt=\"Open In Colab\"/></a>"
      ]
    },
    {
      "cell_type": "code",
      "execution_count": null,
      "metadata": {
        "colab": {
          "base_uri": "https://localhost:8080/"
        },
        "id": "h3nfoPE516Wd",
        "outputId": "98fa08ba-1a2b-41a1-a6cc-d39250b8bdf5"
      },
      "outputs": [
        {
          "output_type": "stream",
          "name": "stdout",
          "text": [
            "10 5 0 5 10 \n",
            "  5 0 5 \n"
          ]
        }
      ],
      "source": [
        "def positive(x,n):\n",
        "  if x==n:\n",
        "    print(x,end=\" \")\n",
        "    return\n",
        "  print(x,end=\" \")\n",
        "  positive(x+5,n)\n",
        "def negative(n):\n",
        "  if n<=0:\n",
        "    return n\n",
        "  print(n,end=\" \")\n",
        "  return negative(n-5)\n",
        "def controller(n,space=0):\n",
        "  if n<=0:\n",
        "    return\n",
        "  print(\" \"*space*2,end=\"\")\n",
        "  x=negative(n)\n",
        "  positive(x,n)\n",
        "  print()\n",
        "  controller(n-5,space+1)\n",
        "controller(10)"
      ]
    }
  ]
}