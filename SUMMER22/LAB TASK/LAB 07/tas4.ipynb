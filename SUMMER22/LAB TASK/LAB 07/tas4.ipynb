{
  "nbformat": 4,
  "nbformat_minor": 0,
  "metadata": {
    "colab": {
      "provenance": [],
      "authorship_tag": "ABX9TyORZTE5KIH8yYC9HucB48WC",
      "include_colab_link": true
    },
    "kernelspec": {
      "name": "python3",
      "display_name": "Python 3"
    },
    "language_info": {
      "name": "python"
    }
  },
  "cells": [
    {
      "cell_type": "markdown",
      "metadata": {
        "id": "view-in-github",
        "colab_type": "text"
      },
      "source": [
        "<a href=\"https://colab.research.google.com/github/MonowarHusain/CSE110_PROGRAMMING-LANGUAGE-I/blob/main/SUMMER22/LAB%20TASK/LAB%2007/tas4.ipynb\" target=\"_parent\"><img src=\"https://colab.research.google.com/assets/colab-badge.svg\" alt=\"Open In Colab\"/></a>"
      ]
    },
    {
      "cell_type": "code",
      "execution_count": 1,
      "metadata": {
        "colab": {
          "base_uri": "https://localhost:8080/"
        },
        "id": "Sy49AQAgBcaP",
        "outputId": "21044639-18b6-46bb-8970-ecdf8384eec9"
      },
      "outputs": [
        {
          "output_type": "stream",
          "name": "stdout",
          "text": [
            "[10, 20, 11, 22, 58, 12, 70]\n",
            "[30, 70, 15, 16, 100, 56, 80]\n",
            "sort [10, 11, 12, 20, 22, 58, 70]\n",
            "sort [100, 80, 70, 56, 30, 16, 15]\n",
            "[10, 100, 11, 80, 12, 70, 20, 56, 22, 30, 58, 16, 70, 15]\n"
          ]
        }
      ],
      "source": [
        "#task04\n",
        "my_list = [10,30,20,70,11,15,22,16,58,100,12,56,70,80]\n",
        "ev=[]\n",
        "od=[]\n",
        "out=[]\n",
        "for i in range(len(my_list)):\n",
        "    if i%2==0:\n",
        "        ev.append(my_list[i])\n",
        "    else:\n",
        "        od.append(my_list[i])\n",
        "print(ev)\n",
        "print(od)\n",
        "\n",
        "for i in range(len(ev)-1):\n",
        "    for j in range(len(ev)-i-1):\n",
        "        if ev[j]>ev[j+1]:\n",
        "            temp=ev[j]\n",
        "            ev[j]=ev[j+1]\n",
        "            ev[j+1]=temp\n",
        "print('sort',ev)\n",
        "\n",
        "for i in range(len(od)-1):\n",
        "    for j in range(len(od)-i-1):\n",
        "        if od[j]<od[j+1]:\n",
        "            temp=od[j]\n",
        "            od[j]=od[j+1]\n",
        "            od[j+1]=temp\n",
        "print('sort',od)\n",
        "\n",
        "\n",
        "\n",
        "for i in range(len(od)):\n",
        "    out.append(ev[i])\n",
        "    out.append(od[i])\n",
        "print(out)\n"
      ]
    }
  ]
}